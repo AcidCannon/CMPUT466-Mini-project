{
  "nbformat": 4,
  "nbformat_minor": 0,
  "metadata": {
    "colab": {
      "name": "Untitled0.ipynb",
      "provenance": [],
      "authorship_tag": "ABX9TyNRX5zEeB2EonTqtkxL12hC",
      "include_colab_link": true
    },
    "kernelspec": {
      "name": "python3",
      "display_name": "Python 3"
    },
    "accelerator": "GPU"
  },
  "cells": [
    {
      "cell_type": "markdown",
      "metadata": {
        "id": "view-in-github",
        "colab_type": "text"
      },
      "source": [
        "<a href=\"https://colab.research.google.com/github/AcidCannon/CMPUT466-Mini-project/blob/master/task1.ipynb\" target=\"_parent\"><img src=\"https://colab.research.google.com/assets/colab-badge.svg\" alt=\"Open In Colab\"/></a>"
      ]
    },
    {
      "cell_type": "code",
      "metadata": {
        "id": "7Yvb_lUIBmKr",
        "colab_type": "code",
        "colab": {}
      },
      "source": [
        "import torch\n",
        "from torchvision import datasets, transforms\n",
        "import numpy as np"
      ],
      "execution_count": 0,
      "outputs": []
    },
    {
      "cell_type": "code",
      "metadata": {
        "id": "xanvRWYQMKgD",
        "colab_type": "code",
        "colab": {}
      },
      "source": [
        "config = {}\n",
        "config['batch_size'] = 100\n",
        "config['training_shuffle'] = True\n",
        "config['validation_shuffle'] = True\n",
        "config['test_shuffle'] = False\n",
        "config['num_of_classes'] = 10\n",
        "config['k'] = 3\n",
        "config['device'] = 'gpu'\n",
        "config['algorithm'] = 'K-nearest Neighbors'"
      ],
      "execution_count": 0,
      "outputs": []
    },
    {
      "cell_type": "code",
      "metadata": {
        "id": "G1BcFaH6HAQc",
        "colab_type": "code",
        "colab": {}
      },
      "source": [
        "def load_data(config):\n",
        "  # split training dataset into train:validation = 45000:5000\n",
        "  CIFAR10_training = datasets.CIFAR10('/CIFAR10_dataset/', train=True, download=True,\n",
        "                              transform=transforms.Compose([\n",
        "                                transforms.ToTensor(),\n",
        "                                transforms.Normalize((0.5, 0.5, 0.5), (0.5, 0.5, 0.5))]))\n",
        "\n",
        "  CIFAR10_test_set = datasets.CIFAR10('/CIFAR10_dataset/', train=False, download=True,\n",
        "                              transform=transforms.Compose([\n",
        "                                transforms.ToTensor(),\n",
        "                                transforms.Normalize((0.5, 0.5, 0.5), (0.5, 0.5, 0.5))]))\n",
        "  \n",
        "  CIFAR10_training_set, CIFAR10_validation_set = torch.utils.data.Subset(CIFAR10_training, range(0,45000)), torch.utils.data.Subset(CIFAR10_training, range(45000,50000))\n",
        "    \n",
        "  training_dataloader = torch.utils.data.DataLoader(CIFAR10_training_set, batch_size=config['batch_size'], shuffle=config['training_shuffle'])\n",
        "  validation_dataloader = torch.utils.data.DataLoader(CIFAR10_validation_set, batch_size=config['batch_size'], shuffle=config['validation_shuffle'])\n",
        "  test_dataloader = torch.utils.data.DataLoader(CIFAR10_test_set, batch_size=config['batch_size'], shuffle=config['test_shuffle'])\n",
        "  \n",
        "  return training_dataloader, validation_dataloader, test_dataloader"
      ],
      "execution_count": 0,
      "outputs": []
    },
    {
      "cell_type": "code",
      "metadata": {
        "id": "-TNZz70iQIIB",
        "colab_type": "code",
        "colab": {}
      },
      "source": [
        "def knn(x_train, y_train, x_test, k, num_of_classes, device):\n",
        "  y_test = np.zeros((x_test.shape[0],))\n",
        "  # using tensor for hardware acceleration by using GPU support\n",
        "  tensor_x_train = torch.from_numpy(x_train).to(device).float()\n",
        "  tensor_y_train = torch.from_numpy(y_train).to(device)\n",
        "  tensor_x_test = torch.from_numpy(x_test).to(device).float()\n",
        "  \n",
        "  tensor_one_hot = torch.zeros(k, num_of_classes, device=device)\n",
        "  for i in range(x_test.shape[0]):\n",
        "    # calculate l2 norm\n",
        "    tensor_x_distance = torch.norm(tensor_x_train - tensor_x_test[i, :], dim=1)\n",
        "    # find top k samples' indices\n",
        "    _, tensor_x_indices = torch.topk(tensor_x_distance, k, largest=False)\n",
        "    # get class\n",
        "    tensor_y_class = torch.gather(tensor_y_train, 0, tensor_x_indices)\n",
        "    tensor_y_class.reshape((k, 1))\n",
        "    # get one-hot representation\n",
        "    tensor_one_hot.zero_() # in-place initialization to speed up\n",
        "    one_hot = tensor_one_hot.scatter_(1, tensor_y_class, 1)\n",
        "    sum_one_hot = torch.sum(one_hot, 0)\n",
        "    y_test[i] = torch.argmax(sum_one_hot)\n",
        "  return y_test\n"
      ],
      "execution_count": 0,
      "outputs": []
    },
    {
      "cell_type": "code",
      "metadata": {
        "id": "xBQpFp3oEIWB",
        "colab_type": "code",
        "colab": {}
      },
      "source": [
        "def run(config):\n",
        "  print('Using algorithm: {}.'.format(config['algorithm']))\n",
        "\n",
        "  if config['device'] != 'cpu' and torch.cuda.is_available():\n",
        "    config['device'] = torch.device('cuda')\n",
        "    print('Using GPU: {}.'.format(torch.cuda.get_device_name(0)))\n",
        "  else:\n",
        "    config['device'] = torch.device('cpu')\n",
        "    print('Using CPU.')\n",
        "\n",
        "  print(\"Running...\")\n",
        "\n",
        "  train_dataloader, _, test_dataloader = load_data(config)\n",
        "\n",
        "  x_train, y_train = train_dataloader.data.cpu().numpy(), train_dataloader.targets.cpu().numpy()\n",
        "  x_test, y_test = test_dataloader.data.cpu().numpy(), test_dataloader.targets.cpu().numpy()\n",
        "\n",
        "  x_train.reshape((x_train.shape[0], -1))\n",
        "  x_test.reshape((x_test.shape[0], -1))\n",
        "  "
      ],
      "execution_count": 0,
      "outputs": []
    },
    {
      "cell_type": "code",
      "metadata": {
        "id": "YxJclUCgOmvT",
        "colab_type": "code",
        "colab": {
          "base_uri": "https://localhost:8080/",
          "height": 53
        },
        "outputId": "8687541f-eb83-4280-b0bc-ffdae6240caa"
      },
      "source": [
        "run(config)"
      ],
      "execution_count": 15,
      "outputs": [
        {
          "output_type": "stream",
          "text": [
            "Using algorithm: K-nearest Neighbors.\n",
            "Using GPU: Tesla T4.\n"
          ],
          "name": "stdout"
        }
      ]
    }
  ]
}