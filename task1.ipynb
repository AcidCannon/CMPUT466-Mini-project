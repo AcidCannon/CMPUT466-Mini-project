{
  "nbformat": 4,
  "nbformat_minor": 0,
  "metadata": {
    "colab": {
      "name": "Untitled0.ipynb",
      "provenance": [],
      "authorship_tag": "ABX9TyMPrNwUiP5dxDXkrQT2qoi9",
      "include_colab_link": true
    },
    "kernelspec": {
      "name": "python3",
      "display_name": "Python 3"
    },
    "accelerator": "GPU",
    "widgets": {
      "application/vnd.jupyter.widget-state+json": {
        "72b3c436137e436e8e476258870294cc": {
          "model_module": "@jupyter-widgets/controls",
          "model_name": "HBoxModel",
          "state": {
            "_view_name": "HBoxView",
            "_dom_classes": [],
            "_model_name": "HBoxModel",
            "_view_module": "@jupyter-widgets/controls",
            "_model_module_version": "1.5.0",
            "_view_count": null,
            "_view_module_version": "1.5.0",
            "box_style": "",
            "layout": "IPY_MODEL_ae2aadf7e8a24ddcb20c604ae346f9a8",
            "_model_module": "@jupyter-widgets/controls",
            "children": [
              "IPY_MODEL_55c2d801f11b4940917d211bd6d503b8",
              "IPY_MODEL_ea59fb53081b4df6978d8122ec35cc88"
            ]
          }
        },
        "ae2aadf7e8a24ddcb20c604ae346f9a8": {
          "model_module": "@jupyter-widgets/base",
          "model_name": "LayoutModel",
          "state": {
            "_view_name": "LayoutView",
            "grid_template_rows": null,
            "right": null,
            "justify_content": null,
            "_view_module": "@jupyter-widgets/base",
            "overflow": null,
            "_model_module_version": "1.2.0",
            "_view_count": null,
            "flex_flow": null,
            "width": null,
            "min_width": null,
            "border": null,
            "align_items": null,
            "bottom": null,
            "_model_module": "@jupyter-widgets/base",
            "top": null,
            "grid_column": null,
            "overflow_y": null,
            "overflow_x": null,
            "grid_auto_flow": null,
            "grid_area": null,
            "grid_template_columns": null,
            "flex": null,
            "_model_name": "LayoutModel",
            "justify_items": null,
            "grid_row": null,
            "max_height": null,
            "align_content": null,
            "visibility": null,
            "align_self": null,
            "height": null,
            "min_height": null,
            "padding": null,
            "grid_auto_rows": null,
            "grid_gap": null,
            "max_width": null,
            "order": null,
            "_view_module_version": "1.2.0",
            "grid_template_areas": null,
            "object_position": null,
            "object_fit": null,
            "grid_auto_columns": null,
            "margin": null,
            "display": null,
            "left": null
          }
        },
        "55c2d801f11b4940917d211bd6d503b8": {
          "model_module": "@jupyter-widgets/controls",
          "model_name": "IntProgressModel",
          "state": {
            "_view_name": "ProgressView",
            "style": "IPY_MODEL_c02e60127730494f9cd838d3a3f429dc",
            "_dom_classes": [],
            "description": "",
            "_model_name": "IntProgressModel",
            "bar_style": "success",
            "max": 1,
            "_view_module": "@jupyter-widgets/controls",
            "_model_module_version": "1.5.0",
            "value": 1,
            "_view_count": null,
            "_view_module_version": "1.5.0",
            "orientation": "horizontal",
            "min": 0,
            "description_tooltip": null,
            "_model_module": "@jupyter-widgets/controls",
            "layout": "IPY_MODEL_5c0463ebc9364b35b27fcb18808b52c8"
          }
        },
        "ea59fb53081b4df6978d8122ec35cc88": {
          "model_module": "@jupyter-widgets/controls",
          "model_name": "HTMLModel",
          "state": {
            "_view_name": "HTMLView",
            "style": "IPY_MODEL_e8016adba293430d89af9dce574655f1",
            "_dom_classes": [],
            "description": "",
            "_model_name": "HTMLModel",
            "placeholder": "​",
            "_view_module": "@jupyter-widgets/controls",
            "_model_module_version": "1.5.0",
            "value": " 170500096/? [00:07&lt;00:00, 22507034.29it/s]",
            "_view_count": null,
            "_view_module_version": "1.5.0",
            "description_tooltip": null,
            "_model_module": "@jupyter-widgets/controls",
            "layout": "IPY_MODEL_a418cb852958454c92f1d89a7074a4ab"
          }
        },
        "c02e60127730494f9cd838d3a3f429dc": {
          "model_module": "@jupyter-widgets/controls",
          "model_name": "ProgressStyleModel",
          "state": {
            "_view_name": "StyleView",
            "_model_name": "ProgressStyleModel",
            "description_width": "initial",
            "_view_module": "@jupyter-widgets/base",
            "_model_module_version": "1.5.0",
            "_view_count": null,
            "_view_module_version": "1.2.0",
            "bar_color": null,
            "_model_module": "@jupyter-widgets/controls"
          }
        },
        "5c0463ebc9364b35b27fcb18808b52c8": {
          "model_module": "@jupyter-widgets/base",
          "model_name": "LayoutModel",
          "state": {
            "_view_name": "LayoutView",
            "grid_template_rows": null,
            "right": null,
            "justify_content": null,
            "_view_module": "@jupyter-widgets/base",
            "overflow": null,
            "_model_module_version": "1.2.0",
            "_view_count": null,
            "flex_flow": null,
            "width": null,
            "min_width": null,
            "border": null,
            "align_items": null,
            "bottom": null,
            "_model_module": "@jupyter-widgets/base",
            "top": null,
            "grid_column": null,
            "overflow_y": null,
            "overflow_x": null,
            "grid_auto_flow": null,
            "grid_area": null,
            "grid_template_columns": null,
            "flex": null,
            "_model_name": "LayoutModel",
            "justify_items": null,
            "grid_row": null,
            "max_height": null,
            "align_content": null,
            "visibility": null,
            "align_self": null,
            "height": null,
            "min_height": null,
            "padding": null,
            "grid_auto_rows": null,
            "grid_gap": null,
            "max_width": null,
            "order": null,
            "_view_module_version": "1.2.0",
            "grid_template_areas": null,
            "object_position": null,
            "object_fit": null,
            "grid_auto_columns": null,
            "margin": null,
            "display": null,
            "left": null
          }
        },
        "e8016adba293430d89af9dce574655f1": {
          "model_module": "@jupyter-widgets/controls",
          "model_name": "DescriptionStyleModel",
          "state": {
            "_view_name": "StyleView",
            "_model_name": "DescriptionStyleModel",
            "description_width": "",
            "_view_module": "@jupyter-widgets/base",
            "_model_module_version": "1.5.0",
            "_view_count": null,
            "_view_module_version": "1.2.0",
            "_model_module": "@jupyter-widgets/controls"
          }
        },
        "a418cb852958454c92f1d89a7074a4ab": {
          "model_module": "@jupyter-widgets/base",
          "model_name": "LayoutModel",
          "state": {
            "_view_name": "LayoutView",
            "grid_template_rows": null,
            "right": null,
            "justify_content": null,
            "_view_module": "@jupyter-widgets/base",
            "overflow": null,
            "_model_module_version": "1.2.0",
            "_view_count": null,
            "flex_flow": null,
            "width": null,
            "min_width": null,
            "border": null,
            "align_items": null,
            "bottom": null,
            "_model_module": "@jupyter-widgets/base",
            "top": null,
            "grid_column": null,
            "overflow_y": null,
            "overflow_x": null,
            "grid_auto_flow": null,
            "grid_area": null,
            "grid_template_columns": null,
            "flex": null,
            "_model_name": "LayoutModel",
            "justify_items": null,
            "grid_row": null,
            "max_height": null,
            "align_content": null,
            "visibility": null,
            "align_self": null,
            "height": null,
            "min_height": null,
            "padding": null,
            "grid_auto_rows": null,
            "grid_gap": null,
            "max_width": null,
            "order": null,
            "_view_module_version": "1.2.0",
            "grid_template_areas": null,
            "object_position": null,
            "object_fit": null,
            "grid_auto_columns": null,
            "margin": null,
            "display": null,
            "left": null
          }
        }
      }
    }
  },
  "cells": [
    {
      "cell_type": "markdown",
      "metadata": {
        "id": "view-in-github",
        "colab_type": "text"
      },
      "source": [
        "<a href=\"https://colab.research.google.com/github/AcidCannon/CMPUT466-Mini-project/blob/master/task1.ipynb\" target=\"_parent\"><img src=\"https://colab.research.google.com/assets/colab-badge.svg\" alt=\"Open In Colab\"/></a>"
      ]
    },
    {
      "cell_type": "code",
      "metadata": {
        "id": "7Yvb_lUIBmKr",
        "colab_type": "code",
        "colab": {}
      },
      "source": [
        "import torch\n",
        "from torchvision import datasets, transforms\n",
        "import numpy as np\n",
        "import matplotlib.pyplot as plt"
      ],
      "execution_count": 0,
      "outputs": []
    },
    {
      "cell_type": "code",
      "metadata": {
        "id": "xanvRWYQMKgD",
        "colab_type": "code",
        "colab": {}
      },
      "source": [
        "config = {}\n",
        "config['load_data'] = True\n",
        "config['training_size'] = 50000\n",
        "config['test_size'] = 1000\n",
        "config['validation_size'] = 1000\n",
        "config['training_shuffle'] = True\n",
        "config['test_shuffle'] = False\n",
        "config['validation_shuffle'] = True\n",
        "config['num_of_classes'] = 10\n",
        "config['k'] = 1\n",
        "config['device'] = 'gpu'\n",
        "config['algorithm'] = 'K-nearest Neighbors'\n",
        "config['is_test'] = False\n",
        "config['best_k'] = -1\n",
        "config['best_accuracy'] = 0\n",
        "config['axis_k'] = []\n",
        "config['axis_accuracy'] = []"
      ],
      "execution_count": 0,
      "outputs": []
    },
    {
      "cell_type": "code",
      "metadata": {
        "id": "G1BcFaH6HAQc",
        "colab_type": "code",
        "colab": {}
      },
      "source": [
        "def load_data(config):\n",
        "  # Do not need validation set since using knn\n",
        "  CIFAR10_training_set = datasets.CIFAR10('data', train=True, download=True,\n",
        "                              transform=transforms.Compose([\n",
        "                                transforms.Grayscale(num_output_channels=1),\n",
        "                                transforms.ToTensor(),\n",
        "                                transforms.Normalize((0.5,), (0.5,))                           \n",
        "                                ]))\n",
        "\n",
        "  CIFAR10_test = datasets.CIFAR10('data', train=False, download=True,\n",
        "                              transform=transforms.Compose([\n",
        "                                transforms.Grayscale(num_output_channels=1), \n",
        "                                transforms.ToTensor(),\n",
        "                                transforms.Normalize((0.5,), (0.5,))\n",
        "                                ]))\n",
        "  \n",
        "  CIFAR10_test_set = torch.utils.data.Subset(CIFAR10_test, range(0, config['test_size']))\n",
        "  CIFAR10_validation_set = torch.utils.data.Subset(CIFAR10_test, range(config['test_size'], config['test_size']+config['validation_size']))\n",
        "  \n",
        "  training_dataloader = torch.utils.data.DataLoader(CIFAR10_training_set, batch_size=config['training_size'], shuffle=config['training_shuffle'])\n",
        "  test_dataloader = torch.utils.data.DataLoader(CIFAR10_test_set, batch_size=config['test_size'], shuffle=config['test_shuffle'])\n",
        "  validation_dataloader = torch.utils.data.DataLoader(CIFAR10_validation_set, batch_size=config['validation_size'], shuffle=config['validation_shuffle'])\n",
        "  \n",
        "  return training_dataloader, test_dataloader, validation_dataloader"
      ],
      "execution_count": 0,
      "outputs": []
    },
    {
      "cell_type": "code",
      "metadata": {
        "id": "-TNZz70iQIIB",
        "colab_type": "code",
        "colab": {}
      },
      "source": [
        "def knn(x_train, y_train, x_test, k, num_of_classes, device):\n",
        "  y_test = np.zeros((x_test.shape[0],))\n",
        "  # using tensor for hardware acceleration by using GPU support\n",
        "  tensor_x_train = x_train.to(device).float()\n",
        "  tensor_x_test = x_test.to(device).float()\n",
        "  tensor_y_train = y_train.to(device)\n",
        "\n",
        "  tensor_one_hot = torch.zeros(k, num_of_classes, device=device)\n",
        "  for i in range(x_test.shape[0]):\n",
        "    # calculate l2 norm\n",
        "    tensor_x_distance = torch.norm(tensor_x_train - tensor_x_test[i, :], dim=1)\n",
        "    # find top k samples' indices\n",
        "    _, tensor_x_indices = torch.topk(tensor_x_distance, k, largest=False)\n",
        "    # get class\n",
        "    tensor_y_class = torch.gather(tensor_y_train, 0, tensor_x_indices)\n",
        "    tensor_y_class = tensor_y_class.reshape((k, 1))\n",
        "    # get one-hot representation\n",
        "    tensor_one_hot.zero_() # in-place initialization to speed up\n",
        "    one_hot = tensor_one_hot.scatter_(1, tensor_y_class, 1)\n",
        "    sum_one_hot = torch.sum(one_hot, 0)\n",
        "    y_test[i] = torch.argmax(sum_one_hot)\n",
        "  y_test = torch.from_numpy(y_test)\n",
        "  return y_test\n"
      ],
      "execution_count": 0,
      "outputs": []
    },
    {
      "cell_type": "code",
      "metadata": {
        "id": "xBQpFp3oEIWB",
        "colab_type": "code",
        "colab": {}
      },
      "source": [
        "def run(config):\n",
        "  if config['load_data']:\n",
        "    config['load_data'] = False\n",
        "    config['training_dataloader'], config['test_dataloader'], config['validation_dataloader'] = load_data(config)\n",
        "  \n",
        "  training_dataloader, test_dataloader, validation_dataloader = config['training_dataloader'], config['test_dataloader'], config['validation_dataloader']\n",
        "\n",
        "  x_train, y_train = None, None\n",
        "  for _, (data, target) in enumerate(training_dataloader):\n",
        "    x_train, y_train = data, target\n",
        "    break\n",
        "\n",
        "  x_test, y_test = None, None\n",
        "  for _, (data, target) in enumerate(test_dataloader):\n",
        "    x_test, y_test = data, target\n",
        "    break\n",
        "\n",
        "  x_validation, y_validation = None, None\n",
        "  for _, (data, target) in enumerate(validation_dataloader):\n",
        "    x_validation, y_validation = data, target\n",
        "    break\n",
        "\n",
        "  x_train = x_train.reshape((x_train.shape[0], -1))\n",
        "  x_test = x_test.reshape((x_test.shape[0], -1))\n",
        "  x_validation = x_validation.reshape((x_validation.shape[0], -1))\n",
        "  \n",
        "  if config['is_test']:\n",
        "    print('Test: K: {}\\t'.format(config['best_k']), end='')\n",
        "    predicted_y_test = knn(x_train, y_train, x_test, config['best_k'], config['num_of_classes'], config['device'])\n",
        "  else:\n",
        "    print('Validation: K: {}\\t'.format(config['k']), end='')\n",
        "    predicted_y_test = knn(x_train, y_train, x_validation, config['k'], config['num_of_classes'], config['device'])\n",
        "\n",
        "  correct = (y_test == predicted_y_test).numpy().astype(np.int32).sum()\n",
        "  incorrect = len(y_test) - correct\n",
        "  accuracy = float(correct) / len(y_test)\n",
        "  print('Correct Predict: {}/{} total \\tAccuracy: {:5f}'.format(correct, len(y_test), accuracy))\n",
        "  if accuracy > config['best_accuracy'] and not config['is_test']:\n",
        "    config['best_accuracy'] = accuracy\n",
        "    config['best_k'] = config['k']\n",
        "  return accuracy"
      ],
      "execution_count": 0,
      "outputs": []
    },
    {
      "cell_type": "code",
      "metadata": {
        "id": "YxJclUCgOmvT",
        "colab_type": "code",
        "colab": {
          "base_uri": "https://localhost:8080/",
          "height": 283,
          "referenced_widgets": [
            "72b3c436137e436e8e476258870294cc",
            "ae2aadf7e8a24ddcb20c604ae346f9a8",
            "55c2d801f11b4940917d211bd6d503b8",
            "ea59fb53081b4df6978d8122ec35cc88",
            "c02e60127730494f9cd838d3a3f429dc",
            "5c0463ebc9364b35b27fcb18808b52c8",
            "e8016adba293430d89af9dce574655f1",
            "a418cb852958454c92f1d89a7074a4ab"
          ]
        },
        "outputId": "7e71b2a5-9ff5-4219-8981-4e9c6ee28175"
      },
      "source": [
        "print('Training set size: {}x{}.'.format(config['training_size'], 1024))\n",
        "print('Validation set size: {}x{}.'.format(config['validation_size'], 1024))\n",
        "print('Test set size: {}x{}.'.format(config['test_size'], 1024))\n",
        "print('Using algorithm: {}.'.format(config['algorithm']))\n",
        "if config['device'] != 'cpu' and torch.cuda.is_available():\n",
        "  config['device'] = torch.device('cuda')\n",
        "  print('Using GPU: {}.'.format(torch.cuda.get_device_name(0)))\n",
        "else:\n",
        "  config['device'] = torch.device('cpu')\n",
        "  print('Using CPU.')\n",
        "\n",
        "print(\"Running...\")\n",
        "for i in range(config['training_size']):\n",
        "  config['k'] = i+1\n",
        "  config['axis_accuracy'].append(run(config))\n",
        "config['is_test'] = True\n",
        "_ = run(config)"
      ],
      "execution_count": 0,
      "outputs": [
        {
          "output_type": "stream",
          "text": [
            "Training set size: 50000x1024.\n",
            "Validation set size: 1000x1024.\n",
            "Test set size: 1000x1024.\n",
            "Using algorithm: K-nearest Neighbors.\n",
            "Using GPU: Tesla P100-PCIE-16GB.\n",
            "Running...\n",
            "Downloading https://www.cs.toronto.edu/~kriz/cifar-10-python.tar.gz to data/cifar-10-python.tar.gz\n"
          ],
          "name": "stdout"
        },
        {
          "output_type": "display_data",
          "data": {
            "application/vnd.jupyter.widget-view+json": {
              "model_id": "72b3c436137e436e8e476258870294cc",
              "version_minor": 0,
              "version_major": 2
            },
            "text/plain": [
              "HBox(children=(IntProgress(value=1, bar_style='info', max=1), HTML(value='')))"
            ]
          },
          "metadata": {
            "tags": []
          }
        },
        {
          "output_type": "stream",
          "text": [
            "Extracting data/cifar-10-python.tar.gz to data\n",
            "Files already downloaded and verified\n",
            "\n",
            "Validation: K: 1\tCorrect Predict: 95/1000 total \tAccuracy: 0.095000\n",
            "Validation: K: 2\tCorrect Predict: 87/1000 total \tAccuracy: 0.087000\n",
            "Validation: K: 3\tCorrect Predict: 85/1000 total \tAccuracy: 0.085000\n"
          ],
          "name": "stdout"
        }
      ]
    },
    {
      "cell_type": "code",
      "metadata": {
        "id": "ohNNKWs1jz5j",
        "colab_type": "code",
        "colab": {}
      },
      "source": [
        "# The learning curve of the validation accuracy with different selection of k\n",
        "plt.figure(figsize=(10, 10))\n",
        "plt.title(\"Learning Curve\", fontsize=14)\n",
        "plt.xlabel(\"K\", fontsize=12)\n",
        "plt.ylabel(\"Validation Accuracy\", fontsize=12)\n",
        "plt.plot(np.array(range(1, config['training_size']+1)), config['axis_accuracy'], label=\"Validation Accuracy\")\n",
        "plt.legend()\n",
        "plt.savefig('acc.jpg')"
      ],
      "execution_count": 0,
      "outputs": []
    }
  ]
}