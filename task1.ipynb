{
  "nbformat": 4,
  "nbformat_minor": 0,
  "metadata": {
    "colab": {
      "name": "Untitled0.ipynb",
      "provenance": [],
      "authorship_tag": "ABX9TyMIJMysmWE/jUVziolWdlO0",
      "include_colab_link": true
    },
    "kernelspec": {
      "name": "python3",
      "display_name": "Python 3"
    },
    "accelerator": "GPU",
    "widgets": {
      "application/vnd.jupyter.widget-state+json": {
        "2a1df386a9a242cf8be262024b205d4c": {
          "model_module": "@jupyter-widgets/controls",
          "model_name": "HBoxModel",
          "state": {
            "_view_name": "HBoxView",
            "_dom_classes": [],
            "_model_name": "HBoxModel",
            "_view_module": "@jupyter-widgets/controls",
            "_model_module_version": "1.5.0",
            "_view_count": null,
            "_view_module_version": "1.5.0",
            "box_style": "",
            "layout": "IPY_MODEL_8eae8b8012e949bd97bfec8d3bddbb54",
            "_model_module": "@jupyter-widgets/controls",
            "children": [
              "IPY_MODEL_59c6361428c54bb7bb389135f14dc9e3",
              "IPY_MODEL_81ddbfb6cdc441868f30981a73d95f20"
            ]
          }
        },
        "8eae8b8012e949bd97bfec8d3bddbb54": {
          "model_module": "@jupyter-widgets/base",
          "model_name": "LayoutModel",
          "state": {
            "_view_name": "LayoutView",
            "grid_template_rows": null,
            "right": null,
            "justify_content": null,
            "_view_module": "@jupyter-widgets/base",
            "overflow": null,
            "_model_module_version": "1.2.0",
            "_view_count": null,
            "flex_flow": null,
            "width": null,
            "min_width": null,
            "border": null,
            "align_items": null,
            "bottom": null,
            "_model_module": "@jupyter-widgets/base",
            "top": null,
            "grid_column": null,
            "overflow_y": null,
            "overflow_x": null,
            "grid_auto_flow": null,
            "grid_area": null,
            "grid_template_columns": null,
            "flex": null,
            "_model_name": "LayoutModel",
            "justify_items": null,
            "grid_row": null,
            "max_height": null,
            "align_content": null,
            "visibility": null,
            "align_self": null,
            "height": null,
            "min_height": null,
            "padding": null,
            "grid_auto_rows": null,
            "grid_gap": null,
            "max_width": null,
            "order": null,
            "_view_module_version": "1.2.0",
            "grid_template_areas": null,
            "object_position": null,
            "object_fit": null,
            "grid_auto_columns": null,
            "margin": null,
            "display": null,
            "left": null
          }
        },
        "59c6361428c54bb7bb389135f14dc9e3": {
          "model_module": "@jupyter-widgets/controls",
          "model_name": "IntProgressModel",
          "state": {
            "_view_name": "ProgressView",
            "style": "IPY_MODEL_25c1d1a4719f49e3a30cab6f63748240",
            "_dom_classes": [],
            "description": "",
            "_model_name": "IntProgressModel",
            "bar_style": "info",
            "max": 1,
            "_view_module": "@jupyter-widgets/controls",
            "_model_module_version": "1.5.0",
            "value": 1,
            "_view_count": null,
            "_view_module_version": "1.5.0",
            "orientation": "horizontal",
            "min": 0,
            "description_tooltip": null,
            "_model_module": "@jupyter-widgets/controls",
            "layout": "IPY_MODEL_ad7a0963943d4850afa4ff9b69b5d5e9"
          }
        },
        "81ddbfb6cdc441868f30981a73d95f20": {
          "model_module": "@jupyter-widgets/controls",
          "model_name": "HTMLModel",
          "state": {
            "_view_name": "HTMLView",
            "style": "IPY_MODEL_e76f7403d9b44011a5a1fd0d1e1d7c75",
            "_dom_classes": [],
            "description": "",
            "_model_name": "HTMLModel",
            "placeholder": "​",
            "_view_module": "@jupyter-widgets/controls",
            "_model_module_version": "1.5.0",
            "value": " 170500096/? [00:30&lt;00:00, 8069297.60it/s]",
            "_view_count": null,
            "_view_module_version": "1.5.0",
            "description_tooltip": null,
            "_model_module": "@jupyter-widgets/controls",
            "layout": "IPY_MODEL_a2dd970e30434ea4b947501d1c89738c"
          }
        },
        "25c1d1a4719f49e3a30cab6f63748240": {
          "model_module": "@jupyter-widgets/controls",
          "model_name": "ProgressStyleModel",
          "state": {
            "_view_name": "StyleView",
            "_model_name": "ProgressStyleModel",
            "description_width": "initial",
            "_view_module": "@jupyter-widgets/base",
            "_model_module_version": "1.5.0",
            "_view_count": null,
            "_view_module_version": "1.2.0",
            "bar_color": null,
            "_model_module": "@jupyter-widgets/controls"
          }
        },
        "ad7a0963943d4850afa4ff9b69b5d5e9": {
          "model_module": "@jupyter-widgets/base",
          "model_name": "LayoutModel",
          "state": {
            "_view_name": "LayoutView",
            "grid_template_rows": null,
            "right": null,
            "justify_content": null,
            "_view_module": "@jupyter-widgets/base",
            "overflow": null,
            "_model_module_version": "1.2.0",
            "_view_count": null,
            "flex_flow": null,
            "width": null,
            "min_width": null,
            "border": null,
            "align_items": null,
            "bottom": null,
            "_model_module": "@jupyter-widgets/base",
            "top": null,
            "grid_column": null,
            "overflow_y": null,
            "overflow_x": null,
            "grid_auto_flow": null,
            "grid_area": null,
            "grid_template_columns": null,
            "flex": null,
            "_model_name": "LayoutModel",
            "justify_items": null,
            "grid_row": null,
            "max_height": null,
            "align_content": null,
            "visibility": null,
            "align_self": null,
            "height": null,
            "min_height": null,
            "padding": null,
            "grid_auto_rows": null,
            "grid_gap": null,
            "max_width": null,
            "order": null,
            "_view_module_version": "1.2.0",
            "grid_template_areas": null,
            "object_position": null,
            "object_fit": null,
            "grid_auto_columns": null,
            "margin": null,
            "display": null,
            "left": null
          }
        },
        "e76f7403d9b44011a5a1fd0d1e1d7c75": {
          "model_module": "@jupyter-widgets/controls",
          "model_name": "DescriptionStyleModel",
          "state": {
            "_view_name": "StyleView",
            "_model_name": "DescriptionStyleModel",
            "description_width": "",
            "_view_module": "@jupyter-widgets/base",
            "_model_module_version": "1.5.0",
            "_view_count": null,
            "_view_module_version": "1.2.0",
            "_model_module": "@jupyter-widgets/controls"
          }
        },
        "a2dd970e30434ea4b947501d1c89738c": {
          "model_module": "@jupyter-widgets/base",
          "model_name": "LayoutModel",
          "state": {
            "_view_name": "LayoutView",
            "grid_template_rows": null,
            "right": null,
            "justify_content": null,
            "_view_module": "@jupyter-widgets/base",
            "overflow": null,
            "_model_module_version": "1.2.0",
            "_view_count": null,
            "flex_flow": null,
            "width": null,
            "min_width": null,
            "border": null,
            "align_items": null,
            "bottom": null,
            "_model_module": "@jupyter-widgets/base",
            "top": null,
            "grid_column": null,
            "overflow_y": null,
            "overflow_x": null,
            "grid_auto_flow": null,
            "grid_area": null,
            "grid_template_columns": null,
            "flex": null,
            "_model_name": "LayoutModel",
            "justify_items": null,
            "grid_row": null,
            "max_height": null,
            "align_content": null,
            "visibility": null,
            "align_self": null,
            "height": null,
            "min_height": null,
            "padding": null,
            "grid_auto_rows": null,
            "grid_gap": null,
            "max_width": null,
            "order": null,
            "_view_module_version": "1.2.0",
            "grid_template_areas": null,
            "object_position": null,
            "object_fit": null,
            "grid_auto_columns": null,
            "margin": null,
            "display": null,
            "left": null
          }
        }
      }
    }
  },
  "cells": [
    {
      "cell_type": "markdown",
      "metadata": {
        "id": "view-in-github",
        "colab_type": "text"
      },
      "source": [
        "<a href=\"https://colab.research.google.com/github/AcidCannon/CMPUT466-Mini-project/blob/master/task1.ipynb\" target=\"_parent\"><img src=\"https://colab.research.google.com/assets/colab-badge.svg\" alt=\"Open In Colab\"/></a>"
      ]
    },
    {
      "cell_type": "code",
      "metadata": {
        "id": "7Yvb_lUIBmKr",
        "colab_type": "code",
        "colab": {}
      },
      "source": [
        "import torch\n",
        "from torchvision import datasets, transforms\n",
        "import numpy as np\n",
        "import matplotlib.pyplot as plt"
      ],
      "execution_count": 0,
      "outputs": []
    },
    {
      "cell_type": "code",
      "metadata": {
        "id": "xanvRWYQMKgD",
        "colab_type": "code",
        "colab": {}
      },
      "source": [
        "config = {}\n",
        "config['load_data'] = True\n",
        "config['training_size'] = 60000\n",
        "config['test_size'] = 1000\n",
        "config['validation_size'] = 1000\n",
        "config['training_shuffle'] = True\n",
        "config['test_shuffle'] = False\n",
        "config['validation_shuffle'] = True\n",
        "config['num_of_classes'] = 10\n",
        "config['k'] = 1\n",
        "config['device'] = 'gpu'\n",
        "config['algorithm'] = 'K-nearest Neighbors'\n",
        "config['is_test'] = False\n",
        "config['best_k'] = -1\n",
        "config['best_accuracy'] = 0\n",
        "config['axis_k'] = []\n",
        "config['axis_accuracy'] = []"
      ],
      "execution_count": 0,
      "outputs": []
    },
    {
      "cell_type": "code",
      "metadata": {
        "id": "G1BcFaH6HAQc",
        "colab_type": "code",
        "colab": {}
      },
      "source": [
        "def load_data(config):\n",
        "  # Do not need validation set since using knn\n",
        "  CIFAR10_training_set = datasets.CIFAR10('data', train=True, download=True,\n",
        "                              transform=transforms.Compose([\n",
        "                                transforms.Grayscale(num_output_channels=1),\n",
        "                                transforms.ToTensor(),\n",
        "                                transforms.Normalize((0.5,), (0.5,))                           \n",
        "                                ]))\n",
        "\n",
        "  CIFAR10_test = datasets.CIFAR10('data', train=False, download=True,\n",
        "                              transform=transforms.Compose([\n",
        "                                transforms.Grayscale(num_output_channels=1), \n",
        "                                transforms.ToTensor(),\n",
        "                                transforms.Normalize((0.5,), (0.5,))\n",
        "                                ]))\n",
        "  \n",
        "  CIFAR10_test_set = torch.utils.data.Subset(CIFAR10_test, range(0, config['test_size']))\n",
        "  CIFAR10_validation_set = torch.utils.data.Subset(CIFAR10_test, range(config['test_size'], config['test_size']+config['validation_size']))\n",
        "  \n",
        "  training_dataloader = torch.utils.data.DataLoader(CIFAR10_training_set, batch_size=config['training_size'], shuffle=config['training_shuffle'])\n",
        "  test_dataloader = torch.utils.data.DataLoader(CIFAR10_test_set, batch_size=config['test_size'], shuffle=config['test_shuffle'])\n",
        "  validation_dataloader = torch.utils.data.DataLoader(CIFAR10_validation_set, batch_size=config['validation_size'], shuffle=config['validation_shuffle'])\n",
        "  \n",
        "  return training_dataloader, test_dataloader, validation_dataloader"
      ],
      "execution_count": 0,
      "outputs": []
    },
    {
      "cell_type": "code",
      "metadata": {
        "id": "-TNZz70iQIIB",
        "colab_type": "code",
        "colab": {}
      },
      "source": [
        "def knn(x_train, y_train, x_test, k, num_of_classes, device):\n",
        "  y_test = np.zeros((x_test.shape[0],))\n",
        "  # using tensor for hardware acceleration by using GPU support\n",
        "  tensor_x_train = x_train.to(device).float()\n",
        "  tensor_x_test = x_test.to(device).float()\n",
        "  tensor_y_train = y_train.to(device)\n",
        "\n",
        "  tensor_one_hot = torch.zeros(k, num_of_classes, device=device)\n",
        "  for i in range(x_test.shape[0]):\n",
        "    # calculate l2 norm\n",
        "    tensor_x_distance = torch.norm(tensor_x_train - tensor_x_test[i, :], dim=1)\n",
        "    # find top k samples' indices\n",
        "    _, tensor_x_indices = torch.topk(tensor_x_distance, k, largest=False)\n",
        "    # get class\n",
        "    tensor_y_class = torch.gather(tensor_y_train, 0, tensor_x_indices)\n",
        "    tensor_y_class = tensor_y_class.reshape((k, 1))\n",
        "    # get one-hot representation\n",
        "    tensor_one_hot.zero_() # in-place initialization to speed up\n",
        "    one_hot = tensor_one_hot.scatter_(1, tensor_y_class, 1)\n",
        "    sum_one_hot = torch.sum(one_hot, 0)\n",
        "    y_test[i] = torch.argmax(sum_one_hot)\n",
        "  y_test = torch.from_numpy(y_test)\n",
        "  return y_test\n"
      ],
      "execution_count": 0,
      "outputs": []
    },
    {
      "cell_type": "code",
      "metadata": {
        "id": "xBQpFp3oEIWB",
        "colab_type": "code",
        "colab": {}
      },
      "source": [
        "def run(config):\n",
        "  if config['load_data']:\n",
        "    config['load_data'] = False\n",
        "    config['training_dataloader'], config['test_dataloader'], config['validation_dataloader'] = load_data(config)\n",
        "  \n",
        "  training_dataloader, test_dataloader, validation_dataloader = config['training_dataloader'], config['test_dataloader'], config['validation_dataloader']\n",
        "\n",
        "  x_train, y_train = None, None\n",
        "  for _, (data, target) in enumerate(training_dataloader):\n",
        "    x_train, y_train = data, target\n",
        "    break\n",
        "\n",
        "  x_test, y_test = None, None\n",
        "  for _, (data, target) in enumerate(test_dataloader):\n",
        "    x_test, y_test = data, target\n",
        "    break\n",
        "\n",
        "  x_validation, y_validation = None, None\n",
        "  for _, (data, target) in enumerate(validation_dataloader):\n",
        "    x_validation, y_validation = data, target\n",
        "    break\n",
        "\n",
        "  x_train = x_train.reshape((x_train.shape[0], -1))\n",
        "  x_test = x_test.reshape((x_test.shape[0], -1))\n",
        "  x_validation = x_validation.reshape((x_validation.shape[0], -1))\n",
        "  \n",
        "  if config['is_test']:\n",
        "    print('Test: K: {}\\t'.format(config['best_k']), end='')\n",
        "    predicted_y_test = knn(x_train, y_train, x_test, config['best_k'], config['num_of_classes'], config['device'])\n",
        "  else:\n",
        "    print('Validation: K: {}\\t'.format(config['k']), end='')\n",
        "    predicted_y_test = knn(x_train, y_train, x_validation, config['k'], config['num_of_classes'], config['device'])\n",
        "\n",
        "  correct = (y_test == predicted_y_test).numpy().astype(np.int32).sum()\n",
        "  incorrect = len(y_test) - correct\n",
        "  accuracy = float(correct) / len(y_test)\n",
        "  print('Correct Predict: {}/{} total \\tAccuracy: {:5f}'.format(correct, len(y_test), accuracy))\n",
        "  if accuracy > config['best_accuracy'] and not config['is_test']:\n",
        "    config['best_accuracy'] = accuracy\n",
        "    config['best_k'] = config['k']\n",
        "  return accuracy"
      ],
      "execution_count": 0,
      "outputs": []
    },
    {
      "cell_type": "code",
      "metadata": {
        "id": "YxJclUCgOmvT",
        "colab_type": "code",
        "outputId": "a167c925-054f-49d8-93e1-17af97e8a0b7",
        "colab": {
          "base_uri": "https://localhost:8080/",
          "height": 1000,
          "referenced_widgets": [
            "2a1df386a9a242cf8be262024b205d4c",
            "8eae8b8012e949bd97bfec8d3bddbb54",
            "59c6361428c54bb7bb389135f14dc9e3",
            "81ddbfb6cdc441868f30981a73d95f20",
            "25c1d1a4719f49e3a30cab6f63748240",
            "ad7a0963943d4850afa4ff9b69b5d5e9",
            "e76f7403d9b44011a5a1fd0d1e1d7c75",
            "a2dd970e30434ea4b947501d1c89738c"
          ]
        }
      },
      "source": [
        "print('Training set size: {}x{}.'.format(config['training_size'], 1024))\n",
        "print('Validation set size: {}x{}.'.format(config['validation_size'], 1024))\n",
        "print('Test set size: {}x{}.'.format(config['test_size'], 1024))\n",
        "print('Using algorithm: {}.'.format(config['algorithm']))\n",
        "if config['device'] != 'cpu' and torch.cuda.is_available():\n",
        "  config['device'] = torch.device('cuda')\n",
        "  print('Using GPU: {}.'.format(torch.cuda.get_device_name(0)))\n",
        "else:\n",
        "  config['device'] = torch.device('cpu')\n",
        "  print('Using CPU.')\n",
        "\n",
        "print(\"Running...\")\n",
        "for i in range(0, 100):\n",
        "  config['k'] = i+1\n",
        "  config['axis_accuracy'].append(run(config))\n",
        "config['is_test'] = True\n",
        "_ = run(config)"
      ],
      "execution_count": 6,
      "outputs": [
        {
          "output_type": "stream",
          "text": [
            "Training set size: 60000x1024.\n",
            "Validation set size: 1000x1024.\n",
            "Test set size: 1000x1024.\n",
            "Using algorithm: K-nearest Neighbors.\n",
            "Using GPU: Tesla K80.\n",
            "Running...\n",
            "Downloading https://www.cs.toronto.edu/~kriz/cifar-10-python.tar.gz to data/cifar-10-python.tar.gz\n"
          ],
          "name": "stdout"
        },
        {
          "output_type": "display_data",
          "data": {
            "application/vnd.jupyter.widget-view+json": {
              "model_id": "2a1df386a9a242cf8be262024b205d4c",
              "version_minor": 0,
              "version_major": 2
            },
            "text/plain": [
              "HBox(children=(IntProgress(value=1, bar_style='info', max=1), HTML(value='')))"
            ]
          },
          "metadata": {
            "tags": []
          }
        },
        {
          "output_type": "stream",
          "text": [
            "Extracting data/cifar-10-python.tar.gz to data\n",
            "Files already downloaded and verified\n",
            "Validation: K: 1\tCorrect Predict: 87/1000 total \tAccuracy: 0.087000\n",
            "Validation: K: 2\tCorrect Predict: 99/1000 total \tAccuracy: 0.099000\n",
            "Validation: K: 3\tCorrect Predict: 111/1000 total \tAccuracy: 0.111000\n",
            "Validation: K: 4\tCorrect Predict: 105/1000 total \tAccuracy: 0.105000\n",
            "Validation: K: 5\tCorrect Predict: 94/1000 total \tAccuracy: 0.094000\n",
            "Validation: K: 6\tCorrect Predict: 94/1000 total \tAccuracy: 0.094000\n",
            "Validation: K: 7\tCorrect Predict: 103/1000 total \tAccuracy: 0.103000\n",
            "Validation: K: 8\tCorrect Predict: 103/1000 total \tAccuracy: 0.103000\n",
            "Validation: K: 9\tCorrect Predict: 89/1000 total \tAccuracy: 0.089000\n",
            "Validation: K: 10\tCorrect Predict: 96/1000 total \tAccuracy: 0.096000\n",
            "Validation: K: 11\tCorrect Predict: 98/1000 total \tAccuracy: 0.098000\n",
            "Validation: K: 12\tCorrect Predict: 88/1000 total \tAccuracy: 0.088000\n",
            "Validation: K: 13\tCorrect Predict: 95/1000 total \tAccuracy: 0.095000\n",
            "Validation: K: 14\tCorrect Predict: 101/1000 total \tAccuracy: 0.101000\n",
            "Validation: K: 15\tCorrect Predict: 95/1000 total \tAccuracy: 0.095000\n",
            "Validation: K: 16\tCorrect Predict: 86/1000 total \tAccuracy: 0.086000\n",
            "Validation: K: 17\tCorrect Predict: 91/1000 total \tAccuracy: 0.091000\n",
            "Validation: K: 18\tCorrect Predict: 99/1000 total \tAccuracy: 0.099000\n",
            "Validation: K: 19\tCorrect Predict: 101/1000 total \tAccuracy: 0.101000\n",
            "Validation: K: 20\tCorrect Predict: 107/1000 total \tAccuracy: 0.107000\n",
            "Validation: K: 21\tCorrect Predict: 95/1000 total \tAccuracy: 0.095000\n",
            "Validation: K: 22\tCorrect Predict: 83/1000 total \tAccuracy: 0.083000\n",
            "Validation: K: 23\tCorrect Predict: 101/1000 total \tAccuracy: 0.101000\n",
            "Validation: K: 24\tCorrect Predict: 81/1000 total \tAccuracy: 0.081000\n",
            "Validation: K: 25\tCorrect Predict: 89/1000 total \tAccuracy: 0.089000\n",
            "Validation: K: 26\tCorrect Predict: 89/1000 total \tAccuracy: 0.089000\n",
            "Validation: K: 27\tCorrect Predict: 92/1000 total \tAccuracy: 0.092000\n",
            "Validation: K: 28\tCorrect Predict: 101/1000 total \tAccuracy: 0.101000\n",
            "Validation: K: 29\tCorrect Predict: 100/1000 total \tAccuracy: 0.100000\n",
            "Validation: K: 30\tCorrect Predict: 116/1000 total \tAccuracy: 0.116000\n",
            "Validation: K: 31\tCorrect Predict: 90/1000 total \tAccuracy: 0.090000\n",
            "Validation: K: 32\tCorrect Predict: 107/1000 total \tAccuracy: 0.107000\n",
            "Validation: K: 33\tCorrect Predict: 104/1000 total \tAccuracy: 0.104000\n",
            "Validation: K: 34\tCorrect Predict: 91/1000 total \tAccuracy: 0.091000\n",
            "Validation: K: 35\tCorrect Predict: 111/1000 total \tAccuracy: 0.111000\n",
            "Validation: K: 36\tCorrect Predict: 106/1000 total \tAccuracy: 0.106000\n",
            "Validation: K: 37\tCorrect Predict: 92/1000 total \tAccuracy: 0.092000\n",
            "Validation: K: 38\tCorrect Predict: 107/1000 total \tAccuracy: 0.107000\n",
            "Validation: K: 39\tCorrect Predict: 88/1000 total \tAccuracy: 0.088000\n",
            "Validation: K: 40\tCorrect Predict: 90/1000 total \tAccuracy: 0.090000\n",
            "Validation: K: 41\tCorrect Predict: 89/1000 total \tAccuracy: 0.089000\n",
            "Validation: K: 42\tCorrect Predict: 93/1000 total \tAccuracy: 0.093000\n",
            "Validation: K: 43\tCorrect Predict: 93/1000 total \tAccuracy: 0.093000\n",
            "Validation: K: 44\tCorrect Predict: 87/1000 total \tAccuracy: 0.087000\n",
            "Validation: K: 45\tCorrect Predict: 103/1000 total \tAccuracy: 0.103000\n",
            "Validation: K: 46\tCorrect Predict: 109/1000 total \tAccuracy: 0.109000\n",
            "Validation: K: 47\tCorrect Predict: 88/1000 total \tAccuracy: 0.088000\n",
            "Validation: K: 48\tCorrect Predict: 84/1000 total \tAccuracy: 0.084000\n",
            "Validation: K: 49\tCorrect Predict: 122/1000 total \tAccuracy: 0.122000\n",
            "Validation: K: 50\tCorrect Predict: 103/1000 total \tAccuracy: 0.103000\n",
            "Validation: K: 51\tCorrect Predict: 95/1000 total \tAccuracy: 0.095000\n",
            "Validation: K: 52\tCorrect Predict: 104/1000 total \tAccuracy: 0.104000\n",
            "Validation: K: 53\tCorrect Predict: 106/1000 total \tAccuracy: 0.106000\n",
            "Validation: K: 54\tCorrect Predict: 102/1000 total \tAccuracy: 0.102000\n",
            "Validation: K: 55\tCorrect Predict: 106/1000 total \tAccuracy: 0.106000\n",
            "Validation: K: 56\tCorrect Predict: 106/1000 total \tAccuracy: 0.106000\n",
            "Validation: K: 57\tCorrect Predict: 105/1000 total \tAccuracy: 0.105000\n",
            "Validation: K: 58\tCorrect Predict: 92/1000 total \tAccuracy: 0.092000\n",
            "Validation: K: 59\tCorrect Predict: 113/1000 total \tAccuracy: 0.113000\n",
            "Validation: K: 60\tCorrect Predict: 110/1000 total \tAccuracy: 0.110000\n",
            "Validation: K: 61\tCorrect Predict: 104/1000 total \tAccuracy: 0.104000\n",
            "Validation: K: 62\tCorrect Predict: 82/1000 total \tAccuracy: 0.082000\n",
            "Validation: K: 63\tCorrect Predict: 90/1000 total \tAccuracy: 0.090000\n",
            "Validation: K: 64\tCorrect Predict: 111/1000 total \tAccuracy: 0.111000\n",
            "Validation: K: 65\tCorrect Predict: 107/1000 total \tAccuracy: 0.107000\n",
            "Validation: K: 66\tCorrect Predict: 109/1000 total \tAccuracy: 0.109000\n",
            "Validation: K: 67\tCorrect Predict: 96/1000 total \tAccuracy: 0.096000\n",
            "Validation: K: 68\tCorrect Predict: 111/1000 total \tAccuracy: 0.111000\n",
            "Validation: K: 69\tCorrect Predict: 115/1000 total \tAccuracy: 0.115000\n",
            "Validation: K: 70\tCorrect Predict: 91/1000 total \tAccuracy: 0.091000\n",
            "Validation: K: 71\tCorrect Predict: 109/1000 total \tAccuracy: 0.109000\n",
            "Validation: K: 72\tCorrect Predict: 105/1000 total \tAccuracy: 0.105000\n",
            "Validation: K: 73\tCorrect Predict: 90/1000 total \tAccuracy: 0.090000\n",
            "Validation: K: 74\tCorrect Predict: 117/1000 total \tAccuracy: 0.117000\n",
            "Validation: K: 75\tCorrect Predict: 98/1000 total \tAccuracy: 0.098000\n",
            "Validation: K: 76\tCorrect Predict: 89/1000 total \tAccuracy: 0.089000\n",
            "Validation: K: 77\tCorrect Predict: 94/1000 total \tAccuracy: 0.094000\n",
            "Validation: K: 78\tCorrect Predict: 98/1000 total \tAccuracy: 0.098000\n",
            "Validation: K: 79\tCorrect Predict: 99/1000 total \tAccuracy: 0.099000\n",
            "Validation: K: 80\tCorrect Predict: 121/1000 total \tAccuracy: 0.121000\n",
            "Validation: K: 81\tCorrect Predict: 92/1000 total \tAccuracy: 0.092000\n",
            "Validation: K: 82\tCorrect Predict: 106/1000 total \tAccuracy: 0.106000\n",
            "Validation: K: 83\tCorrect Predict: 87/1000 total \tAccuracy: 0.087000\n",
            "Validation: K: 84\tCorrect Predict: 117/1000 total \tAccuracy: 0.117000\n",
            "Validation: K: 85\tCorrect Predict: 100/1000 total \tAccuracy: 0.100000\n",
            "Validation: K: 86\tCorrect Predict: 99/1000 total \tAccuracy: 0.099000\n",
            "Validation: K: 87\tCorrect Predict: 104/1000 total \tAccuracy: 0.104000\n",
            "Validation: K: 88\tCorrect Predict: 99/1000 total \tAccuracy: 0.099000\n",
            "Validation: K: 89\tCorrect Predict: 105/1000 total \tAccuracy: 0.105000\n",
            "Validation: K: 90\tCorrect Predict: 95/1000 total \tAccuracy: 0.095000\n",
            "Validation: K: 91\tCorrect Predict: 93/1000 total \tAccuracy: 0.093000\n",
            "Validation: K: 92\tCorrect Predict: 106/1000 total \tAccuracy: 0.106000\n",
            "Validation: K: 93\tCorrect Predict: 107/1000 total \tAccuracy: 0.107000\n",
            "Validation: K: 94\tCorrect Predict: 93/1000 total \tAccuracy: 0.093000\n",
            "Validation: K: 95\tCorrect Predict: 96/1000 total \tAccuracy: 0.096000\n",
            "Validation: K: 96\tCorrect Predict: 76/1000 total \tAccuracy: 0.076000\n",
            "Validation: K: 97\tCorrect Predict: 89/1000 total \tAccuracy: 0.089000\n",
            "Validation: K: 98\tCorrect Predict: 96/1000 total \tAccuracy: 0.096000\n",
            "Validation: K: 99\tCorrect Predict: 137/1000 total \tAccuracy: 0.137000\n",
            "Validation: K: 100\tCorrect Predict: 105/1000 total \tAccuracy: 0.105000\n",
            "Test: K: 99\tCorrect Predict: 292/1000 total \tAccuracy: 0.292000\n"
          ],
          "name": "stdout"
        }
      ]
    },
    {
      "cell_type": "code",
      "metadata": {
        "id": "ohNNKWs1jz5j",
        "colab_type": "code",
        "colab": {
          "base_uri": "https://localhost:8080/",
          "height": 626
        },
        "outputId": "e2da916f-c803-4fd8-9597-51cc2e724a0f"
      },
      "source": [
        "# The learning curve of the validation accuracy with different selection of k\n",
        "plt.figure(figsize=(10, 10))\n",
        "plt.title(\"Learning Curve\", fontsize=14)\n",
        "plt.xlabel(\"K\", fontsize=12)\n",
        "plt.ylabel(\"Validation Accuracy\", fontsize=12)\n",
        "plt.plot(np.array(range(1, 101)), config['axis_accuracy'], label=\"Validation Accuracy\")\n",
        "plt.legend()\n",
        "plt.savefig('acc.jpg')"
      ],
      "execution_count": 8,
      "outputs": [
        {
          "output_type": "display_data",
          "data": {
            "image/png": "[encoded data removed]",
            "text/plain": [
              "<Figure size 720x720 with 1 Axes>"
            ]
          },
          "metadata": {
            "tags": [],
            "needs_background": "light"
          }
        }
      ]
    }
  ]
}