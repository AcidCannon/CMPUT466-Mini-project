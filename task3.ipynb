{
  "nbformat": 4,
  "nbformat_minor": 0,
  "metadata": {
    "colab": {
      "name": "task3.ipynb",
      "provenance": [],
      "collapsed_sections": [],
      "authorship_tag": "ABX9TyP4JcUWekBQe7kvG7ROkeoi",
      "include_colab_link": true
    },
    "kernelspec": {
      "name": "python3",
      "display_name": "Python 3"
    },
    "accelerator": "GPU"
  },
  "cells": [
    {
      "cell_type": "markdown",
      "metadata": {
        "id": "view-in-github",
        "colab_type": "text"
      },
      "source": [
        "<a href=\"https://colab.research.google.com/github/AcidCannon/CMPUT466-Mini-project/blob/master/task3.ipynb\" target=\"_parent\"><img src=\"https://colab.research.google.com/assets/colab-badge.svg\" alt=\"Open In Colab\"/></a>"
      ]
    },
    {
      "cell_type": "code",
      "metadata": {
        "id": "CzybJHQBKjKf",
        "colab_type": "code",
        "colab": {}
      },
      "source": [
        "import torch\n",
        "from torchvision import datasets, transforms\n",
        "import numpy as np\n",
        "import torch.nn.functional as F\n",
        "import torch.nn as nn\n",
        "from torchvision.utils import save_image"
      ],
      "execution_count": 0,
      "outputs": []
    },
    {
      "cell_type": "code",
      "metadata": {
        "id": "_QpuRQT7LCi3",
        "colab_type": "code",
        "colab": {}
      },
      "source": [
        "config = {}\n",
        "config['training_size'] = 50000\n",
        "config['training_batch_size'] = 64\n",
        "config['training_shuffle'] = True\n",
        "config['device'] = 'gpu'\n",
        "config['generator_learning_rate'] = 0.0001\n",
        "config['generator_weight_decay'] = 0.001\n",
        "config['discriminator_learning_rate'] = 0.0001 \n",
        "config['discriminator_weight_decay'] = 0.001\n",
        "config['algorithm'] = 'Generative Adversarial Network'\n",
        "config['number_of_epochs'] = 1000\n",
        "config['discriminator_real_loss_coe'] = 1.0\n",
        "config['discriminator_fake_loss_coe'] = 1.0"
      ],
      "execution_count": 0,
      "outputs": []
    },
    {
      "cell_type": "code",
      "metadata": {
        "id": "mSf9MRLYLXXz",
        "colab_type": "code",
        "colab": {}
      },
      "source": [
        "def load_data(config):\n",
        "  MNIST_training_set = datasets.MNIST(root='data', train=True, download=True, transform=transforms.Compose([\n",
        "                    transforms.ToTensor(),\n",
        "                    transforms.Normalize((0.1307,), (0.3081,))\n",
        "                  ]))\n",
        "  \n",
        "  MNIST_training_set = torch.utils.data.Subset(MNIST_training_set, range(0, config['training_size']))\n",
        "\n",
        "  training_dataloader = torch.utils.data.DataLoader(dataset=MNIST_training_set, batch_size=config['training_batch_size'], shuffle=config['training_shuffle'])\n",
        "\n",
        "  return training_dataloader"
      ],
      "execution_count": 0,
      "outputs": []
    },
    {
      "cell_type": "code",
      "metadata": {
        "id": "uihkhkONOex3",
        "colab_type": "code",
        "colab": {}
      },
      "source": [
        "class Generator(nn.Module):\n",
        "  def __init__(self):\n",
        "    super(Generator, self).__init__()\n",
        "    self.fc1 = nn.Linear(10, 10)\n",
        "    self.fc2 = nn.Linear(10, 64)\n",
        "    self.fc3 = nn.Linear(64, 128)\n",
        "    self.fc4 = nn.Linear(128, 784)\n",
        "  \n",
        "  def forward(self, x):\n",
        "    x = F.relu(self.fc1(x))\n",
        "    x = F.relu(self.fc2(x))\n",
        "    x = F.relu(self.fc3(x))\n",
        "    return torch.tanh(self.fc4(x))"
      ],
      "execution_count": 0,
      "outputs": []
    },
    {
      "cell_type": "code",
      "metadata": {
        "id": "UxXOYlUePwsk",
        "colab_type": "code",
        "colab": {}
      },
      "source": [
        "class Discriminator(nn.Module):\n",
        "  def __init__(self):\n",
        "    super(Discriminator, self).__init__()\n",
        "    self.fc1 = nn.Linear(784, 128)\n",
        "    self.fc2 = nn.Linear(128, 64)\n",
        "    self.fc3 = nn.Linear(64, 10)\n",
        "    self.fc4 = nn.Linear(10, 1)\n",
        "  \n",
        "  def forward(self, x):\n",
        "    x = F.relu(self.fc1(x))\n",
        "    x = F.relu(self.fc2(x))\n",
        "    x = F.relu(self.fc3(x))\n",
        "    return torch.sigmoid(self.fc4(x))"
      ],
      "execution_count": 0,
      "outputs": []
    },
    {
      "cell_type": "code",
      "metadata": {
        "id": "utIUbQscSIDX",
        "colab_type": "code",
        "colab": {}
      },
      "source": [
        "def discriminator_train(config, data, discriminator_optimizer, discriminator, generator, loss_function):\n",
        "  real_data = data.view(-1, 784)\n",
        "  real_data = real_data.to(config['device'])\n",
        "  real_target = torch.ones(data.shape[0], 1)\n",
        "  real_target = real_target.to(config['device'])\n",
        "\n",
        "  # set gradient to be zero\n",
        "  discriminator_optimizer.zero_grad()\n",
        "\n",
        "  # forward propagation for real\n",
        "  output = discriminator(real_data)\n",
        "  # compute loss for real\n",
        "  discriminator_real_loss = loss_function(output, real_target)\n",
        "\n",
        "  fake_data = torch.randn(data.shape[0], 10).to(config['device'])\n",
        "  fake_data = generator(fake_data)\n",
        "  fake_target = torch.zeros(data.shape[0], 1)\n",
        "  fake_target = fake_target.to(config['device'])\n",
        "\n",
        "  # forward propagation for fake\n",
        "  output = discriminator(fake_data)\n",
        "  # compute loss for fake\n",
        "  discriminator_fake_loss = loss_function(output, fake_target)\n",
        "\n",
        "  # compute total loss as a combination of real loss and fake loss\n",
        "  discriminator_total_loss = config['discriminator_real_loss_coe']*discriminator_real_loss + config['discriminator_fake_loss_coe']*discriminator_fake_loss\n",
        "  \n",
        "  # backward propagation for total loss\n",
        "  discriminator_total_loss.backward()\n",
        "  \n",
        "  # weight updation\n",
        "  discriminator_optimizer.step()\n",
        "  \n",
        "  return discriminator_total_loss"
      ],
      "execution_count": 0,
      "outputs": []
    },
    {
      "cell_type": "code",
      "metadata": {
        "id": "w0jpk0GScQIW",
        "colab_type": "code",
        "colab": {}
      },
      "source": [
        "def generator_train(config, data, generator_optimizer, discriminator, generator, loss_function):\n",
        "  # set gradient to be zero\n",
        "  generator_optimizer.zero_grad()\n",
        "\n",
        "  fake_data = torch.randn(data.shape[0], 10).to(config['device'])\n",
        "  real_target = torch.ones(data.shape[0], 1)\n",
        "  real_target = real_target.to(config['device'])\n",
        "\n",
        "  # let generator generates fake image and see if discriminator can discriminate it\n",
        "  # first forward propagate for generator\n",
        "  # then forward propagate for discriminator\n",
        "  output = discriminator(generator(fake_data))\n",
        "\n",
        "  # compute loss for generator\n",
        "  generator_total_loss = loss_function(output, real_target)\n",
        "\n",
        "  # backward propagation for total loss\n",
        "  generator_total_loss.backward()\n",
        "\n",
        "  # weight updation\n",
        "  generator_optimizer.step()\n",
        "\n",
        "  return generator_total_loss"
      ],
      "execution_count": 0,
      "outputs": []
    },
    {
      "cell_type": "code",
      "metadata": {
        "id": "kyy-4fgSdd1N",
        "colab_type": "code",
        "colab": {}
      },
      "source": [
        "def train(training_dataloader, config, device):\n",
        "  #### MAY MODIFY LATER ####\n",
        "  loss_function = F.binary_cross_entropy\n",
        "  discriminator = Discriminator().to(device)\n",
        "  discriminator.train()\n",
        "  generator = Generator().to(device)\n",
        "  generator.train()\n",
        "  discriminator_optimizer = torch.optim.Adam(discriminator.parameters(), lr=config['discriminator_learning_rate'], weight_decay = config['discriminator_weight_decay'])\n",
        "  generator_optimizer = torch.optim.Adam(generator.parameters(), lr=config['generator_learning_rate'], weight_decay=config['generator_weight_decay'])\n",
        "  #### MAY MODIFY END ####\n",
        "  for epoch in range(1, config['number_of_epochs']+1):\n",
        "    discriminator_loss = 0\n",
        "    discriminator_count = 0\n",
        "    generator_loss = 0\n",
        "    generator_count = 0\n",
        "    for idx, (data, target) in enumerate(training_dataloader):\n",
        "      discriminator_loss += discriminator_train(config, data, discriminator_optimizer, discriminator, generator, loss_function)\n",
        "      discriminator_count += 1\n",
        "      generator_loss += generator_train(config, data, generator_optimizer, discriminator, generator, loss_function)\n",
        "      generator_count += 1\n",
        "    print(\"Epoch: {}.\\tGenerator Avg.loss: {}.\\tDiscriminator Avg.loss: {}.\".format(epoch, generator_loss/generator_count, discriminator_loss/discriminator_count))"
      ],
      "execution_count": 0,
      "outputs": []
    },
    {
      "cell_type": "code",
      "metadata": {
        "id": "xzYM1WTGn2Za",
        "colab_type": "code",
        "colab": {
          "base_uri": "https://localhost:8080/",
          "height": 1000
        },
        "outputId": "30ca99eb-cb69-4f5b-87c2-d46484a4a521"
      },
      "source": [
        "if config['device'] != 'cpu' and torch.cuda.is_available():\n",
        "  config['device'] = torch.device('cuda')\n",
        "  print('Using GPU: {}.'.format(torch.cuda.get_device_name(0)))\n",
        "else:\n",
        "  config['device'] = torch.device('cpu')\n",
        "  print('Using CPU.')\n",
        "  \n",
        "train(load_data(config), config, config['device'])"
      ],
      "execution_count": 352,
      "outputs": [
        {
          "output_type": "stream",
          "text": [
            "Using GPU: Tesla P100-PCIE-16GB.\n",
            "Epoch: 1.\tGenerator Avg.loss: 1.2581062316894531.\tDiscriminator Avg.loss: 0.5770953297615051.\n",
            "Epoch: 2.\tGenerator Avg.loss: 1.709043025970459.\tDiscriminator Avg.loss: 0.22191600501537323.\n",
            "Epoch: 3.\tGenerator Avg.loss: 3.626218795776367.\tDiscriminator Avg.loss: 0.034113019704818726.\n",
            "Epoch: 4.\tGenerator Avg.loss: 5.0395402908325195.\tDiscriminator Avg.loss: 0.037967436015605927.\n",
            "Epoch: 5.\tGenerator Avg.loss: 5.678446292877197.\tDiscriminator Avg.loss: 0.017597785219550133.\n",
            "Epoch: 6.\tGenerator Avg.loss: 6.248522758483887.\tDiscriminator Avg.loss: 0.012787897139787674.\n",
            "Epoch: 7.\tGenerator Avg.loss: 6.681715965270996.\tDiscriminator Avg.loss: 0.008085235953330994.\n",
            "Epoch: 8.\tGenerator Avg.loss: 6.617933750152588.\tDiscriminator Avg.loss: 0.009197051636874676.\n",
            "Epoch: 9.\tGenerator Avg.loss: 6.560760498046875.\tDiscriminator Avg.loss: 0.011331873945891857.\n",
            "Epoch: 10.\tGenerator Avg.loss: 6.877798080444336.\tDiscriminator Avg.loss: 0.0058124130591750145.\n",
            "Epoch: 11.\tGenerator Avg.loss: 6.935893535614014.\tDiscriminator Avg.loss: 0.007994950748980045.\n",
            "Epoch: 12.\tGenerator Avg.loss: 7.4090166091918945.\tDiscriminator Avg.loss: 0.007580670528113842.\n",
            "Epoch: 13.\tGenerator Avg.loss: 6.894154071807861.\tDiscriminator Avg.loss: 0.00950890313833952.\n",
            "Epoch: 14.\tGenerator Avg.loss: 6.762816905975342.\tDiscriminator Avg.loss: 0.005719608161598444.\n",
            "Epoch: 15.\tGenerator Avg.loss: 7.229435920715332.\tDiscriminator Avg.loss: 0.00577169843018055.\n",
            "Epoch: 16.\tGenerator Avg.loss: 7.06289529800415.\tDiscriminator Avg.loss: 0.005728414282202721.\n",
            "Epoch: 17.\tGenerator Avg.loss: 6.953829765319824.\tDiscriminator Avg.loss: 0.00638697762042284.\n",
            "Epoch: 18.\tGenerator Avg.loss: 7.069955825805664.\tDiscriminator Avg.loss: 0.0048886011354625225.\n",
            "Epoch: 19.\tGenerator Avg.loss: 7.159183979034424.\tDiscriminator Avg.loss: 0.006106221582740545.\n",
            "Epoch: 20.\tGenerator Avg.loss: 7.405076503753662.\tDiscriminator Avg.loss: 0.0041967397555708885.\n",
            "Epoch: 21.\tGenerator Avg.loss: 7.1930694580078125.\tDiscriminator Avg.loss: 0.005915789399296045.\n",
            "Epoch: 22.\tGenerator Avg.loss: 7.223647117614746.\tDiscriminator Avg.loss: 0.004316513892263174.\n",
            "Epoch: 23.\tGenerator Avg.loss: 7.3004560470581055.\tDiscriminator Avg.loss: 0.004579117055982351.\n",
            "Epoch: 24.\tGenerator Avg.loss: 6.884128570556641.\tDiscriminator Avg.loss: 0.0036138759460300207.\n",
            "Epoch: 25.\tGenerator Avg.loss: 7.170380592346191.\tDiscriminator Avg.loss: 0.0037951164413243532.\n",
            "Epoch: 26.\tGenerator Avg.loss: 7.118313789367676.\tDiscriminator Avg.loss: 0.004138614516705275.\n",
            "Epoch: 27.\tGenerator Avg.loss: 6.976288795471191.\tDiscriminator Avg.loss: 0.007141506299376488.\n",
            "Epoch: 28.\tGenerator Avg.loss: 7.295053482055664.\tDiscriminator Avg.loss: 0.004730460699647665.\n",
            "Epoch: 29.\tGenerator Avg.loss: 7.359567165374756.\tDiscriminator Avg.loss: 0.004393508192151785.\n",
            "Epoch: 30.\tGenerator Avg.loss: 7.101998329162598.\tDiscriminator Avg.loss: 0.004300398752093315.\n",
            "Epoch: 31.\tGenerator Avg.loss: 7.238084316253662.\tDiscriminator Avg.loss: 0.004943822976201773.\n",
            "Epoch: 32.\tGenerator Avg.loss: 7.103665828704834.\tDiscriminator Avg.loss: 0.005395939107984304.\n",
            "Epoch: 33.\tGenerator Avg.loss: 7.139267444610596.\tDiscriminator Avg.loss: 0.0049118767492473125.\n",
            "Epoch: 34.\tGenerator Avg.loss: 7.167761325836182.\tDiscriminator Avg.loss: 0.005359013564884663.\n",
            "Epoch: 35.\tGenerator Avg.loss: 7.132789134979248.\tDiscriminator Avg.loss: 0.005494655575603247.\n",
            "Epoch: 36.\tGenerator Avg.loss: 7.2004780769348145.\tDiscriminator Avg.loss: 0.005654331296682358.\n",
            "Epoch: 37.\tGenerator Avg.loss: 7.253129005432129.\tDiscriminator Avg.loss: 0.0053106071427464485.\n",
            "Epoch: 38.\tGenerator Avg.loss: 7.176392078399658.\tDiscriminator Avg.loss: 0.004513437394052744.\n",
            "Epoch: 39.\tGenerator Avg.loss: 7.426883697509766.\tDiscriminator Avg.loss: 0.005804837681353092.\n",
            "Epoch: 40.\tGenerator Avg.loss: 7.332624912261963.\tDiscriminator Avg.loss: 0.004835202824324369.\n",
            "Epoch: 41.\tGenerator Avg.loss: 7.24041748046875.\tDiscriminator Avg.loss: 0.0041474029421806335.\n",
            "Epoch: 42.\tGenerator Avg.loss: 7.286746978759766.\tDiscriminator Avg.loss: 0.004563493188470602.\n",
            "Epoch: 43.\tGenerator Avg.loss: 7.423524379730225.\tDiscriminator Avg.loss: 0.0052849953062832355.\n",
            "Epoch: 44.\tGenerator Avg.loss: 7.323549270629883.\tDiscriminator Avg.loss: 0.00429744366556406.\n",
            "Epoch: 45.\tGenerator Avg.loss: 7.676516532897949.\tDiscriminator Avg.loss: 0.003560872282832861.\n",
            "Epoch: 46.\tGenerator Avg.loss: 7.674143314361572.\tDiscriminator Avg.loss: 0.004029054660350084.\n",
            "Epoch: 47.\tGenerator Avg.loss: 7.40155029296875.\tDiscriminator Avg.loss: 0.003919446375221014.\n",
            "Epoch: 48.\tGenerator Avg.loss: 7.372054100036621.\tDiscriminator Avg.loss: 0.0038180542178452015.\n",
            "Epoch: 49.\tGenerator Avg.loss: 7.551663398742676.\tDiscriminator Avg.loss: 0.003823214443400502.\n",
            "Epoch: 50.\tGenerator Avg.loss: 7.422606945037842.\tDiscriminator Avg.loss: 0.00465007359161973.\n",
            "Epoch: 51.\tGenerator Avg.loss: 7.504950046539307.\tDiscriminator Avg.loss: 0.00428779236972332.\n",
            "Epoch: 52.\tGenerator Avg.loss: 7.723560810089111.\tDiscriminator Avg.loss: 0.0031637735664844513.\n",
            "Epoch: 53.\tGenerator Avg.loss: 7.438815593719482.\tDiscriminator Avg.loss: 0.003651266684755683.\n",
            "Epoch: 54.\tGenerator Avg.loss: 7.382859230041504.\tDiscriminator Avg.loss: 0.0041895294561982155.\n",
            "Epoch: 55.\tGenerator Avg.loss: 7.621470928192139.\tDiscriminator Avg.loss: 0.00427900068461895.\n",
            "Epoch: 56.\tGenerator Avg.loss: 7.563625812530518.\tDiscriminator Avg.loss: 0.004696377087384462.\n",
            "Epoch: 57.\tGenerator Avg.loss: 7.4488844871521.\tDiscriminator Avg.loss: 0.0038153149653226137.\n",
            "Epoch: 58.\tGenerator Avg.loss: 7.361047744750977.\tDiscriminator Avg.loss: 0.004399569239467382.\n",
            "Epoch: 59.\tGenerator Avg.loss: 7.535893440246582.\tDiscriminator Avg.loss: 0.003946844954043627.\n",
            "Epoch: 60.\tGenerator Avg.loss: 7.245129108428955.\tDiscriminator Avg.loss: 0.00428507337346673.\n",
            "Epoch: 61.\tGenerator Avg.loss: 7.351203918457031.\tDiscriminator Avg.loss: 0.0046884058974683285.\n",
            "Epoch: 62.\tGenerator Avg.loss: 7.271866321563721.\tDiscriminator Avg.loss: 0.005222416948527098.\n",
            "Epoch: 63.\tGenerator Avg.loss: 7.430853366851807.\tDiscriminator Avg.loss: 0.005640282761305571.\n",
            "Epoch: 64.\tGenerator Avg.loss: 7.420031547546387.\tDiscriminator Avg.loss: 0.004965654574334621.\n",
            "Epoch: 65.\tGenerator Avg.loss: 7.464496612548828.\tDiscriminator Avg.loss: 0.005702869966626167.\n",
            "Epoch: 66.\tGenerator Avg.loss: 7.402265548706055.\tDiscriminator Avg.loss: 0.004483010619878769.\n",
            "Epoch: 67.\tGenerator Avg.loss: 7.56302547454834.\tDiscriminator Avg.loss: 0.005623072385787964.\n",
            "Epoch: 68.\tGenerator Avg.loss: 7.489710330963135.\tDiscriminator Avg.loss: 0.004773154389113188.\n",
            "Epoch: 69.\tGenerator Avg.loss: 7.59328031539917.\tDiscriminator Avg.loss: 0.005274185445159674.\n",
            "Epoch: 70.\tGenerator Avg.loss: 7.476405620574951.\tDiscriminator Avg.loss: 0.005309706088155508.\n",
            "Epoch: 71.\tGenerator Avg.loss: 7.717529296875.\tDiscriminator Avg.loss: 0.004816732835024595.\n",
            "Epoch: 72.\tGenerator Avg.loss: 7.495275497436523.\tDiscriminator Avg.loss: 0.005150452721863985.\n",
            "Epoch: 73.\tGenerator Avg.loss: 7.461609840393066.\tDiscriminator Avg.loss: 0.004653871525079012.\n",
            "Epoch: 74.\tGenerator Avg.loss: 7.444873332977295.\tDiscriminator Avg.loss: 0.005643174517899752.\n",
            "Epoch: 75.\tGenerator Avg.loss: 7.743350028991699.\tDiscriminator Avg.loss: 0.004777522291988134.\n",
            "Epoch: 76.\tGenerator Avg.loss: 7.538078308105469.\tDiscriminator Avg.loss: 0.005152785684913397.\n",
            "Epoch: 77.\tGenerator Avg.loss: 7.782329082489014.\tDiscriminator Avg.loss: 0.005043527111411095.\n"
          ],
          "name": "stdout"
        },
        {
          "output_type": "error",
          "ename": "KeyboardInterrupt",
          "evalue": "ignored",
          "traceback": [
            "\u001b[0;31m---------------------------------------------------------------------------\u001b[0m",
            "\u001b[0;31mKeyboardInterrupt\u001b[0m                         Traceback (most recent call last)",
            "\u001b[0;32m<ipython-input-352-f457dafe1e86>\u001b[0m in \u001b[0;36m<module>\u001b[0;34m()\u001b[0m\n\u001b[1;32m      6\u001b[0m   \u001b[0mprint\u001b[0m\u001b[0;34m(\u001b[0m\u001b[0;34m'Using CPU.'\u001b[0m\u001b[0;34m)\u001b[0m\u001b[0;34m\u001b[0m\u001b[0;34m\u001b[0m\u001b[0m\n\u001b[1;32m      7\u001b[0m \u001b[0;34m\u001b[0m\u001b[0m\n\u001b[0;32m----> 8\u001b[0;31m \u001b[0mtrain\u001b[0m\u001b[0;34m(\u001b[0m\u001b[0mload_data\u001b[0m\u001b[0;34m(\u001b[0m\u001b[0mconfig\u001b[0m\u001b[0;34m)\u001b[0m\u001b[0;34m,\u001b[0m \u001b[0mconfig\u001b[0m\u001b[0;34m,\u001b[0m \u001b[0mconfig\u001b[0m\u001b[0;34m[\u001b[0m\u001b[0;34m'device'\u001b[0m\u001b[0;34m]\u001b[0m\u001b[0;34m)\u001b[0m\u001b[0;34m\u001b[0m\u001b[0;34m\u001b[0m\u001b[0m\n\u001b[0m",
            "\u001b[0;32m<ipython-input-351-5889ef3bb907>\u001b[0m in \u001b[0;36mtrain\u001b[0;34m(training_dataloader, config, device)\u001b[0m\n\u001b[1;32m     17\u001b[0m       \u001b[0mdiscriminator_loss\u001b[0m \u001b[0;34m+=\u001b[0m \u001b[0mdiscriminator_train\u001b[0m\u001b[0;34m(\u001b[0m\u001b[0mconfig\u001b[0m\u001b[0;34m,\u001b[0m \u001b[0mdata\u001b[0m\u001b[0;34m,\u001b[0m \u001b[0mdiscriminator_optimizer\u001b[0m\u001b[0;34m,\u001b[0m \u001b[0mdiscriminator\u001b[0m\u001b[0;34m,\u001b[0m \u001b[0mgenerator\u001b[0m\u001b[0;34m,\u001b[0m \u001b[0mloss_function\u001b[0m\u001b[0;34m)\u001b[0m\u001b[0;34m\u001b[0m\u001b[0;34m\u001b[0m\u001b[0m\n\u001b[1;32m     18\u001b[0m       \u001b[0mdiscriminator_count\u001b[0m \u001b[0;34m+=\u001b[0m \u001b[0;36m1\u001b[0m\u001b[0;34m\u001b[0m\u001b[0;34m\u001b[0m\u001b[0m\n\u001b[0;32m---> 19\u001b[0;31m       \u001b[0mgenerator_loss\u001b[0m \u001b[0;34m+=\u001b[0m \u001b[0mgenerator_train\u001b[0m\u001b[0;34m(\u001b[0m\u001b[0mconfig\u001b[0m\u001b[0;34m,\u001b[0m \u001b[0mdata\u001b[0m\u001b[0;34m,\u001b[0m \u001b[0mgenerator_optimizer\u001b[0m\u001b[0;34m,\u001b[0m \u001b[0mdiscriminator\u001b[0m\u001b[0;34m,\u001b[0m \u001b[0mgenerator\u001b[0m\u001b[0;34m,\u001b[0m \u001b[0mloss_function\u001b[0m\u001b[0;34m)\u001b[0m\u001b[0;34m\u001b[0m\u001b[0;34m\u001b[0m\u001b[0m\n\u001b[0m\u001b[1;32m     20\u001b[0m       \u001b[0mgenerator_count\u001b[0m \u001b[0;34m+=\u001b[0m \u001b[0;36m1\u001b[0m\u001b[0;34m\u001b[0m\u001b[0;34m\u001b[0m\u001b[0m\n\u001b[1;32m     21\u001b[0m     \u001b[0mprint\u001b[0m\u001b[0;34m(\u001b[0m\u001b[0;34m\"Epoch: {}.\\tGenerator Avg.loss: {}.\\tDiscriminator Avg.loss: {}.\"\u001b[0m\u001b[0;34m.\u001b[0m\u001b[0mformat\u001b[0m\u001b[0;34m(\u001b[0m\u001b[0mepoch\u001b[0m\u001b[0;34m,\u001b[0m \u001b[0mgenerator_loss\u001b[0m\u001b[0;34m/\u001b[0m\u001b[0mgenerator_count\u001b[0m\u001b[0;34m,\u001b[0m \u001b[0mdiscriminator_loss\u001b[0m\u001b[0;34m/\u001b[0m\u001b[0mdiscriminator_count\u001b[0m\u001b[0;34m)\u001b[0m\u001b[0;34m)\u001b[0m\u001b[0;34m\u001b[0m\u001b[0;34m\u001b[0m\u001b[0m\n",
            "\u001b[0;32m<ipython-input-350-c4aafa26ee06>\u001b[0m in \u001b[0;36mgenerator_train\u001b[0;34m(config, data, generator_optimizer, discriminator, generator, loss_function)\u001b[0m\n\u001b[1;32m     16\u001b[0m \u001b[0;34m\u001b[0m\u001b[0m\n\u001b[1;32m     17\u001b[0m   \u001b[0;31m# backward propagation for total loss\u001b[0m\u001b[0;34m\u001b[0m\u001b[0;34m\u001b[0m\u001b[0;34m\u001b[0m\u001b[0m\n\u001b[0;32m---> 18\u001b[0;31m   \u001b[0mgenerator_total_loss\u001b[0m\u001b[0;34m.\u001b[0m\u001b[0mbackward\u001b[0m\u001b[0;34m(\u001b[0m\u001b[0;34m)\u001b[0m\u001b[0;34m\u001b[0m\u001b[0;34m\u001b[0m\u001b[0m\n\u001b[0m\u001b[1;32m     19\u001b[0m \u001b[0;34m\u001b[0m\u001b[0m\n\u001b[1;32m     20\u001b[0m   \u001b[0;31m# weight updation\u001b[0m\u001b[0;34m\u001b[0m\u001b[0;34m\u001b[0m\u001b[0;34m\u001b[0m\u001b[0m\n",
            "\u001b[0;32m/usr/local/lib/python3.6/dist-packages/torch/tensor.py\u001b[0m in \u001b[0;36mbackward\u001b[0;34m(self, gradient, retain_graph, create_graph)\u001b[0m\n\u001b[1;32m    196\u001b[0m                 \u001b[0mproducts\u001b[0m\u001b[0;34m.\u001b[0m \u001b[0mDefaults\u001b[0m \u001b[0mto\u001b[0m\u001b[0;31m \u001b[0m\u001b[0;31m`\u001b[0m\u001b[0;31m`\u001b[0m\u001b[0;32mFalse\u001b[0m\u001b[0;31m`\u001b[0m\u001b[0;31m`\u001b[0m\u001b[0;34m.\u001b[0m\u001b[0;34m\u001b[0m\u001b[0;34m\u001b[0m\u001b[0m\n\u001b[1;32m    197\u001b[0m         \"\"\"\n\u001b[0;32m--> 198\u001b[0;31m         \u001b[0mtorch\u001b[0m\u001b[0;34m.\u001b[0m\u001b[0mautograd\u001b[0m\u001b[0;34m.\u001b[0m\u001b[0mbackward\u001b[0m\u001b[0;34m(\u001b[0m\u001b[0mself\u001b[0m\u001b[0;34m,\u001b[0m \u001b[0mgradient\u001b[0m\u001b[0;34m,\u001b[0m \u001b[0mretain_graph\u001b[0m\u001b[0;34m,\u001b[0m \u001b[0mcreate_graph\u001b[0m\u001b[0;34m)\u001b[0m\u001b[0;34m\u001b[0m\u001b[0;34m\u001b[0m\u001b[0m\n\u001b[0m\u001b[1;32m    199\u001b[0m \u001b[0;34m\u001b[0m\u001b[0m\n\u001b[1;32m    200\u001b[0m     \u001b[0;32mdef\u001b[0m \u001b[0mregister_hook\u001b[0m\u001b[0;34m(\u001b[0m\u001b[0mself\u001b[0m\u001b[0;34m,\u001b[0m \u001b[0mhook\u001b[0m\u001b[0;34m)\u001b[0m\u001b[0;34m:\u001b[0m\u001b[0;34m\u001b[0m\u001b[0;34m\u001b[0m\u001b[0m\n",
            "\u001b[0;32m/usr/local/lib/python3.6/dist-packages/torch/autograd/__init__.py\u001b[0m in \u001b[0;36mbackward\u001b[0;34m(tensors, grad_tensors, retain_graph, create_graph, grad_variables)\u001b[0m\n\u001b[1;32m     98\u001b[0m     Variable._execution_engine.run_backward(\n\u001b[1;32m     99\u001b[0m         \u001b[0mtensors\u001b[0m\u001b[0;34m,\u001b[0m \u001b[0mgrad_tensors\u001b[0m\u001b[0;34m,\u001b[0m \u001b[0mretain_graph\u001b[0m\u001b[0;34m,\u001b[0m \u001b[0mcreate_graph\u001b[0m\u001b[0;34m,\u001b[0m\u001b[0;34m\u001b[0m\u001b[0;34m\u001b[0m\u001b[0m\n\u001b[0;32m--> 100\u001b[0;31m         allow_unreachable=True)  # allow_unreachable flag\n\u001b[0m\u001b[1;32m    101\u001b[0m \u001b[0;34m\u001b[0m\u001b[0m\n\u001b[1;32m    102\u001b[0m \u001b[0;34m\u001b[0m\u001b[0m\n",
            "\u001b[0;31mKeyboardInterrupt\u001b[0m: "
          ]
        }
      ]
    }
  ]
}