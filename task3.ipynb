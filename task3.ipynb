{
  "nbformat": 4,
  "nbformat_minor": 0,
  "metadata": {
    "colab": {
      "name": "task3.ipynb",
      "provenance": [],
      "collapsed_sections": [],
      "authorship_tag": "ABX9TyOqdAtl05vEbPB46n0JCpEt",
      "include_colab_link": true
    },
    "kernelspec": {
      "name": "python3",
      "display_name": "Python 3"
    },
    "accelerator": "GPU"
  },
  "cells": [
    {
      "cell_type": "markdown",
      "metadata": {
        "id": "view-in-github",
        "colab_type": "text"
      },
      "source": [
        "<a href=\"https://colab.research.google.com/github/AcidCannon/CMPUT466-Mini-project/blob/master/task3.ipynb\" target=\"_parent\"><img src=\"https://colab.research.google.com/assets/colab-badge.svg\" alt=\"Open In Colab\"/></a>"
      ]
    },
    {
      "cell_type": "code",
      "metadata": {
        "id": "CzybJHQBKjKf",
        "colab_type": "code",
        "colab": {}
      },
      "source": [
        "import torch\n",
        "from torchvision import datasets, transforms\n",
        "import numpy as np\n",
        "import torch.nn.functional as F\n",
        "import torch.nn as nn\n",
        "from torchvision.utils import save_image"
      ],
      "execution_count": 0,
      "outputs": []
    },
    {
      "cell_type": "code",
      "metadata": {
        "id": "_QpuRQT7LCi3",
        "colab_type": "code",
        "colab": {}
      },
      "source": [
        "config = {}\n",
        "config['training_size'] = 50000\n",
        "config['training_batch_size'] = 64\n",
        "config['training_shuffle'] = True\n",
        "config['device'] = 'gpu'\n",
        "config['generator_learning_rate'] = 0.001\n",
        "config['generator_weight_decay'] = 0.001\n",
        "config['discriminator_learning_rate'] = 0.001 \n",
        "config['discriminator_weight_decay'] = 0.001\n",
        "config['algorithm'] = 'Generative Adversarial Network'\n",
        "config['number_of_epochs'] = 1000\n",
        "config['discriminator_real_loss_coe'] = 1.0\n",
        "config['discriminator_fake_loss_coe'] = 1.0"
      ],
      "execution_count": 0,
      "outputs": []
    },
    {
      "cell_type": "code",
      "metadata": {
        "id": "mSf9MRLYLXXz",
        "colab_type": "code",
        "colab": {}
      },
      "source": [
        "def load_data(config):\n",
        "  MNIST_training_set = datasets.MNIST(root='data', train=True, download=True, transform=transforms.Compose([\n",
        "                    transforms.ToTensor(),\n",
        "                    transforms.Normalize((0.5,), (0.5,))\n",
        "                  ]))\n",
        "  \n",
        "  MNIST_training_set = torch.utils.data.Subset(MNIST_training_set, range(0, config['training_size']))\n",
        "\n",
        "  training_dataloader = torch.utils.data.DataLoader(dataset=MNIST_training_set, batch_size=config['training_batch_size'], shuffle=config['training_shuffle'])\n",
        "\n",
        "  return training_dataloader"
      ],
      "execution_count": 0,
      "outputs": []
    },
    {
      "cell_type": "code",
      "metadata": {
        "id": "uihkhkONOex3",
        "colab_type": "code",
        "colab": {}
      },
      "source": [
        "class Generator(nn.Module):\n",
        "  def __init__(self):\n",
        "    super(Generator, self).__init__()\n",
        "    self.fc1 = nn.Linear(100, 32)\n",
        "    self.fc2 = nn.Linear(32, 64)\n",
        "    self.fc3 = nn.Linear(64, 128)\n",
        "    self.fc4 = nn.Linear(128, 784)\n",
        "  \n",
        "  def forward(self, x):\n",
        "    x = F.leaky_relu(self.fc1(x), 0.2, True)\n",
        "    x = F.leaky_relu(self.fc2(x), 0.2, True)\n",
        "    x = F.leaky_relu(self.fc3(x), 0.2, True)\n",
        "    return torch.tanh(self.fc4(x))"
      ],
      "execution_count": 0,
      "outputs": []
    },
    {
      "cell_type": "code",
      "metadata": {
        "id": "UxXOYlUePwsk",
        "colab_type": "code",
        "colab": {}
      },
      "source": [
        "class Discriminator(nn.Module):\n",
        "  def __init__(self):\n",
        "    super(Discriminator, self).__init__()\n",
        "    self.fc1 = nn.Linear(784, 128)\n",
        "    self.fc2 = nn.Linear(128, 64)\n",
        "    self.fc3 = nn.Linear(64, 32)\n",
        "    self.fc4 = nn.Linear(32, 1)\n",
        "  \n",
        "  def forward(self, x):\n",
        "    # using dropout to prevent overfitting\n",
        "    x = F.leaky_relu(self.fc1(x), 0.2, True)\n",
        "    x = F.dropout(x)\n",
        "    x = F.leaky_relu(self.fc2(x), 0.2, True)\n",
        "    x = F.dropout(x)\n",
        "    x = F.leaky_relu(self.fc3(x), 0.2, True)\n",
        "    x = F.dropout(x)\n",
        "    return torch.sigmoid(self.fc4(x))"
      ],
      "execution_count": 0,
      "outputs": []
    },
    {
      "cell_type": "code",
      "metadata": {
        "id": "utIUbQscSIDX",
        "colab_type": "code",
        "colab": {}
      },
      "source": [
        "def discriminator_train(config, data, discriminator_optimizer, discriminator, generator, loss_function):\n",
        "  # set gradient to be zero\n",
        "  discriminator_optimizer.zero_grad()\n",
        "  \n",
        "  real_data = (data.view(-1, 784)).to(config['device'])\n",
        "  real_target = (torch.ones(data.shape[0], 1)).to(config['device'])\n",
        "\n",
        "  # forward propagation for real\n",
        "  output = discriminator(real_data)\n",
        "  # compute loss for real\n",
        "  discriminator_real_loss = loss_function(output, real_target)\n",
        "\n",
        "  fake_data = generator(torch.randn(data.shape[0], 100).to(config['device']))\n",
        "  fake_target = (torch.zeros(data.shape[0], 1)).to(config['device'])\n",
        "\n",
        "  # forward propagation for fake\n",
        "  output = discriminator(fake_data)\n",
        "  # compute loss for fake\n",
        "  discriminator_fake_loss = loss_function(output, fake_target)\n",
        "\n",
        "  # compute total loss as a combination of real loss and fake loss\n",
        "  discriminator_total_loss = config['discriminator_real_loss_coe']*discriminator_real_loss + config['discriminator_fake_loss_coe']*discriminator_fake_loss\n",
        "  \n",
        "  # backward propagation for total loss\n",
        "  discriminator_total_loss.backward()\n",
        "  \n",
        "  # weight updation\n",
        "  discriminator_optimizer.step()\n",
        "  \n",
        "  return discriminator_total_loss"
      ],
      "execution_count": 0,
      "outputs": []
    },
    {
      "cell_type": "code",
      "metadata": {
        "id": "w0jpk0GScQIW",
        "colab_type": "code",
        "colab": {}
      },
      "source": [
        "def generator_train(config, data, generator_optimizer, discriminator, generator, loss_function):\n",
        "  # set gradient to be zero\n",
        "  generator_optimizer.zero_grad()\n",
        "\n",
        "  # let generator generates fake image and see if discriminator can discriminate it\n",
        "  # first forward propagate for generator\n",
        "  fake_data = generator(torch.randn(data.shape[0], 100).to(config['device']))\n",
        "  real_target = (torch.ones(data.shape[0], 1)).to(config['device'])\n",
        "\n",
        "  # then forward propagate for discriminator\n",
        "  output = discriminator(fake_data)\n",
        "\n",
        "  # compute loss for generator\n",
        "  generator_total_loss = loss_function(output, real_target)\n",
        "\n",
        "  # backward propagation for total loss\n",
        "  generator_total_loss.backward()\n",
        "\n",
        "  # weight updation\n",
        "  generator_optimizer.step()\n",
        "\n",
        "  return generator_total_loss"
      ],
      "execution_count": 0,
      "outputs": []
    },
    {
      "cell_type": "code",
      "metadata": {
        "id": "kyy-4fgSdd1N",
        "colab_type": "code",
        "colab": {}
      },
      "source": [
        "def train(training_dataloader, config, device):\n",
        "  #### MAY MODIFY LATER ####\n",
        "  loss_function = F.binary_cross_entropy\n",
        "  discriminator = Discriminator().to(device)\n",
        "  discriminator.train()\n",
        "  generator = Generator().to(device)\n",
        "  generator.train()\n",
        "  discriminator_optimizer = torch.optim.Adam(discriminator.parameters(), lr=config['discriminator_learning_rate'], weight_decay = config['discriminator_weight_decay'])\n",
        "  generator_optimizer = torch.optim.Adam(generator.parameters(), lr=config['generator_learning_rate'], weight_decay=config['generator_weight_decay'])\n",
        "  #### MAY MODIFY END ####\n",
        "  for epoch in range(1, config['number_of_epochs']+1):\n",
        "    discriminator_loss = 0\n",
        "    discriminator_count = 0\n",
        "    generator_loss = 0\n",
        "    generator_count = 0\n",
        "    for idx, (data, target) in enumerate(training_dataloader):\n",
        "      discriminator_loss += discriminator_train(config, data, discriminator_optimizer, discriminator, generator, loss_function)\n",
        "      discriminator_count += 1\n",
        "      generator_loss += generator_train(config, data, generator_optimizer, discriminator, generator, loss_function)\n",
        "      generator_count += 1\n",
        "    print(\"Epoch: {}.\\tGenerator Avg.loss: {}.\\tDiscriminator Avg.loss: {}.\".format(epoch, generator_loss/generator_count, discriminator_loss/discriminator_count))"
      ],
      "execution_count": 0,
      "outputs": []
    },
    {
      "cell_type": "code",
      "metadata": {
        "id": "xzYM1WTGn2Za",
        "colab_type": "code",
        "outputId": "f74a582d-c045-48df-8cd0-c3fc8c9c906e",
        "colab": {
          "base_uri": "https://localhost:8080/",
          "height": 503
        }
      },
      "source": [
        "if config['device'] != 'cpu' and torch.cuda.is_available():\n",
        "  config['device'] = torch.device('cuda')\n",
        "  print('Using GPU: {}.'.format(torch.cuda.get_device_name(0)))\n",
        "else:\n",
        "  config['device'] = torch.device('cpu')\n",
        "  print('Using CPU.')\n",
        "  \n",
        "train(load_data(config), config, config['device'])"
      ],
      "execution_count": 0,
      "outputs": [
        {
          "output_type": "stream",
          "text": [
            "Using GPU: Tesla P100-PCIE-16GB.\n",
            "Epoch: 1.\tGenerator Avg.loss: 1.267493486404419.\tDiscriminator Avg.loss: 1.0904977321624756.\n",
            "Epoch: 2.\tGenerator Avg.loss: 1.478269100189209.\tDiscriminator Avg.loss: 0.9976075291633606.\n",
            "Epoch: 3.\tGenerator Avg.loss: 1.2999438047409058.\tDiscriminator Avg.loss: 0.9958397746086121.\n",
            "Epoch: 4.\tGenerator Avg.loss: 1.298497200012207.\tDiscriminator Avg.loss: 0.9854564666748047.\n",
            "Epoch: 5.\tGenerator Avg.loss: 1.3774237632751465.\tDiscriminator Avg.loss: 0.9433188438415527.\n",
            "Epoch: 6.\tGenerator Avg.loss: 1.3769748210906982.\tDiscriminator Avg.loss: 0.9554319381713867.\n",
            "Epoch: 7.\tGenerator Avg.loss: 1.3774218559265137.\tDiscriminator Avg.loss: 0.9501277804374695.\n",
            "Epoch: 8.\tGenerator Avg.loss: 1.5706912279129028.\tDiscriminator Avg.loss: 0.8383976221084595.\n",
            "Epoch: 9.\tGenerator Avg.loss: 1.3721686601638794.\tDiscriminator Avg.loss: 0.9460525512695312.\n",
            "Epoch: 10.\tGenerator Avg.loss: 1.316267967224121.\tDiscriminator Avg.loss: 0.9900488257408142.\n",
            "Epoch: 11.\tGenerator Avg.loss: 1.3759726285934448.\tDiscriminator Avg.loss: 0.9481877088546753.\n",
            "Epoch: 12.\tGenerator Avg.loss: 1.2705931663513184.\tDiscriminator Avg.loss: 1.069777250289917.\n",
            "Epoch: 13.\tGenerator Avg.loss: 1.20767080783844.\tDiscriminator Avg.loss: 1.0570993423461914.\n",
            "Epoch: 14.\tGenerator Avg.loss: 1.3169666528701782.\tDiscriminator Avg.loss: 0.9693766832351685.\n",
            "Epoch: 15.\tGenerator Avg.loss: 1.1781233549118042.\tDiscriminator Avg.loss: 1.074939250946045.\n",
            "Epoch: 16.\tGenerator Avg.loss: 1.2607142925262451.\tDiscriminator Avg.loss: 1.0209455490112305.\n",
            "Epoch: 17.\tGenerator Avg.loss: 1.3031431436538696.\tDiscriminator Avg.loss: 0.9986674189567566.\n",
            "Epoch: 18.\tGenerator Avg.loss: 1.110051155090332.\tDiscriminator Avg.loss: 1.1005098819732666.\n",
            "Epoch: 19.\tGenerator Avg.loss: 1.3848038911819458.\tDiscriminator Avg.loss: 0.9480563998222351.\n",
            "Epoch: 20.\tGenerator Avg.loss: 1.384485125541687.\tDiscriminator Avg.loss: 0.9426612257957458.\n",
            "Epoch: 21.\tGenerator Avg.loss: 1.301444172859192.\tDiscriminator Avg.loss: 0.983845055103302.\n",
            "Epoch: 22.\tGenerator Avg.loss: 1.2194067239761353.\tDiscriminator Avg.loss: 1.0580265522003174.\n",
            "Epoch: 23.\tGenerator Avg.loss: 1.2963988780975342.\tDiscriminator Avg.loss: 0.9832645058631897.\n",
            "Epoch: 24.\tGenerator Avg.loss: 1.2811598777770996.\tDiscriminator Avg.loss: 0.9873733520507812.\n",
            "Epoch: 25.\tGenerator Avg.loss: 1.2221111059188843.\tDiscriminator Avg.loss: 1.0465757846832275.\n",
            "Epoch: 26.\tGenerator Avg.loss: 1.171006202697754.\tDiscriminator Avg.loss: 1.0666489601135254.\n"
          ],
          "name": "stdout"
        }
      ]
    }
  ]
}