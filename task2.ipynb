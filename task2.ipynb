{
  "nbformat": 4,
  "nbformat_minor": 0,
  "metadata": {
    "colab": {
      "name": "task2.ipynb",
      "provenance": [],
      "authorship_tag": "ABX9TyOBuZG7m3d+JJFN2jeD9qcg",
      "include_colab_link": true
    },
    "kernelspec": {
      "name": "python3",
      "display_name": "Python 3"
    },
    "accelerator": "GPU"
  },
  "cells": [
    {
      "cell_type": "markdown",
      "metadata": {
        "id": "view-in-github",
        "colab_type": "text"
      },
      "source": [
        "<a href=\"https://colab.research.google.com/github/AcidCannon/CMPUT466-Mini-project/blob/master/task2.ipynb\" target=\"_parent\"><img src=\"https://colab.research.google.com/assets/colab-badge.svg\" alt=\"Open In Colab\"/></a>"
      ]
    },
    {
      "cell_type": "code",
      "metadata": {
        "id": "3MnUkbXCSTaF",
        "colab_type": "code",
        "colab": {}
      },
      "source": [
        "import torch\n",
        "from torchvision import datasets, transforms\n",
        "import numpy as np\n",
        "import pandas as pd\n",
        "import matplotlib.pyplot as plt\n",
        "import torch.nn as nn\n",
        "import torch.nn.functional as F"
      ],
      "execution_count": 0,
      "outputs": []
    },
    {
      "cell_type": "code",
      "metadata": {
        "id": "eSg-PJNBUe0C",
        "colab_type": "code",
        "colab": {}
      },
      "source": [
        "config = {}\n",
        "config['training_size'] = 50000\n",
        "config['test_size'] = 5000\n",
        "config['validation_size'] = 5000\n",
        "config['training_shuffle'] = True\n",
        "config['test_shuffle'] = False\n",
        "config['validation_shuffle'] = True\n",
        "config['num_of_classes'] = 10\n",
        "config['device'] = 'gpu'\n",
        "config['algorithm'] = 'Convolutional Neural Network'\n",
        "config['training_batch_size'] = 64\n",
        "config['validation_batch_size'] = 64\n",
        "config['test_batch_size'] = config['test_size']\n",
        "config['learning_rate'] = 0.0001\n",
        "config['weight_decay'] = 0.001\n",
        "config['best_epoch'] = -1\n",
        "config['best_accuracy'] = 0\n",
        "config['number_of_epochs'] = 100\n",
        "config['display_progress_per_epoch'] = 1\n",
        "config['mode'] = 'demo' # 'fresh_start' 'load_and_train' 'test' 'demo'\n",
        "# Note that, learning curve will only not show in 'test' mode\n",
        "# If in 'demo' mode, will load last time trained model's checkpoint and learning progress\n",
        "# If in 'fresh_start' or 'load_and_train' mode, you need to mount google to support checkpoint and progress saving\n",
        "config['tracking_progress'] = True"
      ],
      "execution_count": 0,
      "outputs": []
    },
    {
      "cell_type": "code",
      "metadata": {
        "id": "uw0ZqkeBdeLe",
        "colab_type": "code",
        "colab": {
          "base_uri": "https://localhost:8080/",
          "height": 413
        },
        "outputId": "005f81ca-9c83-475f-9b52-d77e7d9b64a4"
      },
      "source": [
        "if config['mode'] == 'demo':\n",
        "  # load last time trained model and data\n",
        "  !wget 'https://raw.githubusercontent.com/AcidCannon/CMPUT466-Mini-project-data/master/checkpoint.pth'\n",
        "  !wget 'https://raw.githubusercontent.com/AcidCannon/CMPUT466-Mini-project-data/master/progress.csv'\n",
        "else:\n",
        "  # mount google drive to save checkpoints\n",
        "  from google.colab import drive\n",
        "  drive.mount('/content/gdrive')"
      ],
      "execution_count": 344,
      "outputs": [
        {
          "output_type": "stream",
          "text": [
            "--2020-04-25 08:50:11--  https://raw.githubusercontent.com/AcidCannon/CMPUT466-Mini-project-data/master/checkpoint.pth\n",
            "Resolving raw.githubusercontent.com (raw.githubusercontent.com)... 151.101.0.133, 151.101.64.133, 151.101.128.133, ...\n",
            "Connecting to raw.githubusercontent.com (raw.githubusercontent.com)|151.101.0.133|:443... connected.\n",
            "HTTP request sent, awaiting response... 200 OK\n",
            "Length: 1214853 (1.2M) [application/octet-stream]\n",
            "Saving to: ‘checkpoint.pth’\n",
            "\n",
            "\rcheckpoint.pth        0%[                    ]       0  --.-KB/s               \rcheckpoint.pth      100%[===================>]   1.16M  --.-KB/s    in 0.1s    \n",
            "\n",
            "2020-04-25 08:50:12 (8.21 MB/s) - ‘checkpoint.pth’ saved [1214853/1214853]\n",
            "\n",
            "--2020-04-25 08:50:13--  https://raw.githubusercontent.com/AcidCannon/CMPUT466-Mini-project-data/master/progress.csv\n",
            "Resolving raw.githubusercontent.com (raw.githubusercontent.com)... 151.101.0.133, 151.101.64.133, 151.101.128.133, ...\n",
            "Connecting to raw.githubusercontent.com (raw.githubusercontent.com)|151.101.0.133|:443... connected.\n",
            "HTTP request sent, awaiting response... 200 OK\n",
            "Length: 870 [text/plain]\n",
            "Saving to: ‘progress.csv’\n",
            "\n",
            "progress.csv        100%[===================>]     870  --.-KB/s    in 0s      \n",
            "\n",
            "2020-04-25 08:50:13 (50.9 MB/s) - ‘progress.csv’ saved [870/870]\n",
            "\n"
          ],
          "name": "stdout"
        }
      ]
    },
    {
      "cell_type": "code",
      "metadata": {
        "id": "tM33T1imUyAU",
        "colab_type": "code",
        "colab": {}
      },
      "source": [
        "def load_data(config):\n",
        "  CIFAR10_training_set = datasets.CIFAR10('data', train=True, download=True, transform=transforms.Compose([\n",
        "                                          transforms.RandomCrop(32, padding=4),\n",
        "                                          transforms.RandomHorizontalFlip(),\n",
        "                                          transforms.ToTensor(),\n",
        "                                          transforms.Normalize((0.4914, 0.4822, 0.4465), (0.2023, 0.1994, 0.2010)),\n",
        "                                        ]))\n",
        "  \n",
        "  CIFAR10_test = datasets.CIFAR10('data', train=False, download=True, transform=transforms.Compose([\n",
        "                                          transforms.ToTensor(),\n",
        "                                          transforms.Normalize((0.4914, 0.4822, 0.4465), (0.2023, 0.1994, 0.2010)),\n",
        "                                        ]))\n",
        "  \n",
        "  CIFAR10_training_set = torch.utils.data.Subset(CIFAR10_training_set, range(0, config['training_size']))\n",
        "  CIFAR10_test_set = torch.utils.data.Subset(CIFAR10_test, range(0, config['test_size']))\n",
        "  CIFAR10_validation_set = torch.utils.data.Subset(CIFAR10_test, range(config['test_size'], config['test_size'] + config['validation_size']))\n",
        "\n",
        "  training_dataloader = torch.utils.data.DataLoader(CIFAR10_training_set, batch_size=config['training_batch_size'], shuffle=config['training_shuffle'])\n",
        "  validation_dataloader = torch.utils.data.DataLoader(CIFAR10_validation_set, batch_size=config['validation_batch_size'], shuffle=config['validation_shuffle'])\n",
        "  test_dataloader = torch.utils.data.DataLoader(CIFAR10_test_set, batch_size=config['test_batch_size'], shuffle=config['test_shuffle'])\n",
        "  return training_dataloader, test_dataloader, validation_dataloader"
      ],
      "execution_count": 0,
      "outputs": []
    },
    {
      "cell_type": "code",
      "metadata": {
        "id": "d8cvGdfoYPUi",
        "colab_type": "code",
        "colab": {}
      },
      "source": [
        "class Net(nn.Module):\n",
        "  def __init__(self):\n",
        "    super(Net, self).__init__()\n",
        "    self.conv1 = nn.Conv2d(3, 18, kernel_size=5, padding=2)\n",
        "    self.conv2 = nn.Conv2d(18, 18, kernel_size=5, padding=2)\n",
        "    # we need skip connection, so remain size\n",
        "    self.conv5 = nn.Conv2d(18, 18, kernel_size=5, padding=2)\n",
        "    self.conv3 = nn.Conv2d(18, 48, kernel_size=5, padding=2)\n",
        "    self.conv4 = nn.Conv2d(48, 48, kernel_size=5, padding=2)\n",
        "    # we need skip connection, so remain size\n",
        "    self.conv6 = nn.Conv2d(48, 48, kernel_size=5, padding=2)\n",
        "    self.bn1 = nn.BatchNorm2d(18)\n",
        "    self.bn2 = nn.BatchNorm2d(48)\n",
        "    self.fc1 = nn.Linear(48*8*8, 48)\n",
        "    self.fc2 = nn.Linear(48, config['num_of_classes'])\n",
        "    self.drop = nn.Dropout(0.5)\n",
        "  \n",
        "  def forward(self, x):\n",
        "    x = F.leaky_relu(self.conv1(x))\n",
        "    res = x\n",
        "    x = F.leaky_relu(self.conv2(x))\n",
        "    x = self.conv5(x)\n",
        "    x += res\n",
        "    x = F.leaky_relu(x)\n",
        "    x = F.max_pool2d(x, kernel_size=2, stride=2)\n",
        "    x = self.bn1(x)\n",
        "    x = F.leaky_relu(x)\n",
        "    x = F.leaky_relu(self.conv3(x))\n",
        "    res = x\n",
        "    x = F.leaky_relu(self.conv4(x))\n",
        "    x = self.conv6(x)\n",
        "    x += res\n",
        "    x = F.leaky_relu(x)\n",
        "    x = F.max_pool2d(x, kernel_size=2, stride=2)\n",
        "    x = self.bn2(x)\n",
        "    x = F.leaky_relu(x)\n",
        "    x = x.view(-1, 48*8*8)\n",
        "    x = F.leaky_relu(self.fc1(x))\n",
        "    x = self.drop(x)\n",
        "    x = self.fc2(x)\n",
        "    return F.log_softmax(x, dim=1)"
      ],
      "execution_count": 0,
      "outputs": []
    },
    {
      "cell_type": "code",
      "metadata": {
        "id": "k5udkmL0YiWe",
        "colab_type": "code",
        "colab": {}
      },
      "source": [
        "def train(training_dataloader, test_dataloader, config, device, model=None):\n",
        "  if not model:\n",
        "    model = Net().to(device)\n",
        "  \n",
        "  loss_function = F.cross_entropy\n",
        "  optimizer = torch.optim.Adam(model.parameters(), lr=config['learning_rate'], weight_decay = config['weight_decay'])\n",
        "\n",
        "  for epoch in range(1, config['number_of_epochs']+1):\n",
        "    # TRAIN\n",
        "    model.train()\n",
        "    for idx, (data, target) in enumerate(training_dataloader):\n",
        "      data = data.to(device)\n",
        "      target = target.to(device)\n",
        "      # set gradient to be zero\n",
        "      optimizer.zero_grad()\n",
        "      # forward propagation\n",
        "      output = model(data)\n",
        "      # compute loss\n",
        "      loss = loss_function(output, target)\n",
        "      # backward propagation\n",
        "      loss.backward()\n",
        "      # weight updation\n",
        "      optimizer.step()\n",
        "    # VALIDATION\n",
        "    if epoch % config['display_progress_per_epoch'] == 0:\n",
        "      model.eval()\n",
        "      validation_loss = 0\n",
        "      correct = 0\n",
        "      # no gradients needed since we are doing validation\n",
        "      with torch.no_grad():\n",
        "        for idx, (data, target) in enumerate(test_dataloader):\n",
        "          data = data.to(device)\n",
        "          target = target.to(device)\n",
        "          # predict / forward propagation\n",
        "          output = model(data)\n",
        "          loss = loss_function(output, target)\n",
        "          # find target label\n",
        "          _, predicted = torch.max(output.data, 1)\n",
        "          correct += (predicted == target).sum()\n",
        "          validation_loss += loss.item()\n",
        "      accuracy = 100*float(correct)/len(test_dataloader.dataset)\n",
        "      print(\"Epoch: {}.\\tAvg.loss: {}.\\tAccuracy: {}%.\".format(epoch, validation_loss/len(test_dataloader.dataset), accuracy))\n",
        "      if config['tracking_progress']:\n",
        "        f = open('/content/gdrive/My Drive/checkpoints/progress.csv', 'a+')\n",
        "        f.write('{},{}\\n'.format(epoch, accuracy))\n",
        "        f.close()\n",
        "      # checkpoint saving strategy: mode\n",
        "      if config['mode'] == 'fresh_start' or config['mode'] == 'load_and_train':\n",
        "        if accuracy > config['best_accuracy']:\n",
        "          config['best_epoch'] = epoch\n",
        "          config['best_accuracy'] = accuracy\n",
        "          torch.save(model.state_dict(), '/content/gdrive/My Drive/checkpoints/checkpoint.pth')\n",
        "          print(\"Checkpoint saved.\\tAt epoch: {}.\\tWith accuracy: {}%.\".format(epoch, accuracy))\n",
        "      elif config['mode'] == 'test':\n",
        "        pass"
      ],
      "execution_count": 0,
      "outputs": []
    },
    {
      "cell_type": "code",
      "metadata": {
        "id": "daaPW8TbfNtY",
        "colab_type": "code",
        "colab": {}
      },
      "source": [
        "def test(model, test_dataloader, device):\n",
        "  correct = 0\n",
        "  total = len(test_dataloader.dataset)\n",
        "  model.eval()\n",
        "  with torch.no_grad():\n",
        "    for idx, (data, target) in enumerate(test_dataloader):\n",
        "      data = data.to(device)\n",
        "      target = target.to(device)\n",
        "      output = model(data)\n",
        "      _, predicted = torch.max(output.data, 1)\n",
        "      correct += (predicted == target).sum().item()\n",
        "  return 100.*correct/total, correct, total"
      ],
      "execution_count": 0,
      "outputs": []
    },
    {
      "cell_type": "code",
      "metadata": {
        "id": "aL31PGxif8n4",
        "colab_type": "code",
        "colab": {}
      },
      "source": [
        "def run(config):\n",
        "  print('Training set size: {}x{}.'.format(config['training_size'], '3x32x32'))\n",
        "  print('Validation set size: {}x{}.'.format(config['validation_size'], '3x32x32'))\n",
        "  print('Test set size: {}x{}.'.format(config['test_size'], '3x32x32'))\n",
        "  print('Using algorithm: {}.'.format(config['algorithm']))\n",
        "  print('Running in {} mode.'.format(config['mode']))\n",
        "\n",
        "  if config['device'] != 'cpu' and torch.cuda.is_available():\n",
        "    config['device'] = torch.device('cuda')\n",
        "    print('Using GPU: {}.'.format(torch.cuda.get_device_name(0)))\n",
        "  else:\n",
        "    config['device'] = torch.device('cpu')\n",
        "    print('Using CPU.')\n",
        "\n",
        "  print(\"Running...\")\n",
        "\n",
        "  training_dataloader, test_dataloader, validation_dataloader = load_data(config)\n",
        "  \n",
        "  if config['mode'] == 'fresh_start':\n",
        "    train(training_dataloader, validation_dataloader, config, config['device'])\n",
        "    model = Net().to(config['device'])\n",
        "    model.load_state_dict(torch.load('/content/gdrive/My Drive/checkpoints/checkpoint.pth'))\n",
        "    model.eval()\n",
        "    test_accuracy, correct, total = test(model, test_dataloader, config['device'])\n",
        "    print(\"Test accuracy: {}%.\\tCorrect: {}.\\tTotal: {}.\".format(test_accuracy, correct, total))\n",
        "  elif config['mode'] == 'load_and_train':\n",
        "    model = Net().to(config['device'])\n",
        "    model.load_state_dict(torch.load('/content/gdrive/My Drive/checkpoints/checkpoint.pth'))\n",
        "    train(training_dataloader, validation_dataloader, config, config['device'], model)\n",
        "    model.load_state_dict(torch.load('/content/gdrive/My Drive/checkpoints/checkpoint.pth'))\n",
        "    model.eval()\n",
        "    test_accuracy, correct, total = test(model, test_dataloader, config['device'])\n",
        "    print(\"Test accuracy: {}%.\\tCorrect: {}.\\tTotal: {}.\".format(test_accuracy, correct, total))\n",
        "  elif config['mode'] == 'test':\n",
        "    model = Net().to(config['device'])\n",
        "    model.load_state_dict(torch.load('/content/gdrive/My Drive/checkpoints/checkpoint.pth'))\n",
        "    model.eval()\n",
        "    test_accuracy, correct, total = test(model, test_dataloader, config['device'])\n",
        "    print(\"Test accuracy: {}%.\\tCorrect: {}.\\tTotal: {}.\".format(test_accuracy, correct, total))\n",
        "  elif config['mode'] == 'demo':\n",
        "    model = Net().to(config['device'])\n",
        "    model.load_state_dict(torch.load('./checkpoint.pth'))\n",
        "    model.eval()\n",
        "    test_accuracy, correct, total = test(model, test_dataloader, config['device'])\n",
        "    print(\"Test accuracy: {}%.\\tCorrect: {}.\\tTotal: {}.\".format(test_accuracy, correct, total))\n",
        "\n",
        "  if config['mode'] == 'demo' or config['mode'] == 'fresh_start' or config['mode'] == 'load_and_train':\n",
        "    # The learning curve of the validation accuracy\n",
        "    if config['mode'] == 'demo':\n",
        "      dataframe = pd.read_csv('./progress.csv', header=None)\n",
        "    else:\n",
        "      dataframe = pd.read_csv('/content/gdrive/My Drive/checkpoints/progress.csv', header=None)\n",
        "    plt.figure(figsize=(10, 10))\n",
        "    plt.title(\"Learning Curve\", fontsize=14)\n",
        "    plt.xlabel(\"Epoch\", fontsize=12)\n",
        "    plt.ylabel(\"Validation Accuracy %\", fontsize=12)\n",
        "    plt.plot(dataframe.values[:, 0], dataframe.values[:, 1], label=\"Validation Accuracy\")\n",
        "    plt.legend()\n",
        "    plt.savefig('acc.jpg')\n",
        "  elif config['mode'] == 'test':\n",
        "    pass"
      ],
      "execution_count": 0,
      "outputs": []
    },
    {
      "cell_type": "code",
      "metadata": {
        "id": "wKBh96AzDFBx",
        "colab_type": "code",
        "colab": {
          "base_uri": "https://localhost:8080/",
          "height": 806
        },
        "outputId": "665dc3a3-55d3-4e81-9084-744e3b106e21"
      },
      "source": [
        "run(config)"
      ],
      "execution_count": 350,
      "outputs": [
        {
          "output_type": "stream",
          "text": [
            "Training set size: 50000x3x32x32.\n",
            "Validation set size: 5000x3x32x32.\n",
            "Test set size: 5000x3x32x32.\n",
            "Using algorithm: Convolutional Neural Network.\n",
            "Running in demo mode.\n",
            "Using GPU: Tesla P100-PCIE-16GB.\n",
            "Running...\n",
            "Files already downloaded and verified\n",
            "Files already downloaded and verified\n",
            "Test accuracy: 84.94%.\tCorrect: 4247.\tTotal: 5000.\n"
          ],
          "name": "stdout"
        },
        {
          "output_type": "display_data",
          "data": {
            "image/png": "[encoded data removed]",
            "text/plain": [
              "<Figure size 720x720 with 1 Axes>"
            ]
          },
          "metadata": {
            "tags": [],
            "needs_background": "light"
          }
        }
      ]
    }
  ]
}